{
 "cells": [
  {
   "cell_type": "markdown",
   "metadata": {},
   "source": [
    "# Interpolation of the skyview\n",
    "\n"
   ]
  },
  {
   "cell_type": "markdown",
   "metadata": {},
   "source": [
    "### Pseudocode\n",
    "\n",
    "```python\n",
    "import packages such as topogenesis, pyvista, numpy and scipy.interpolate\n",
    "load high resolution envelope lattice\n",
    "load low resolution analysis lattice\n",
    "\n",
    "# interpolation\n",
    "\n",
    "extract line spaces for each coordinate:\n",
    "x_space = np.linspace(start, end, steps)\n",
    "\n",
    "Interpolating_function = RegularGridInterpolation()\n",
    "interpolated_values = Interpolating_function(centroids)\n",
    "\n",
    "# construct lattice\n",
    "lattice = tg.to_lattice(interpolated_values.reshape(env_lattice.shape))"
   ]
  },
  {
   "cell_type": "markdown",
   "metadata": {},
   "source": [
    "## 0. Initialization\n",
    "\n",
    "### 0.1.Importing all necessary libraries and specifying the inputs"
   ]
  },
  {
   "cell_type": "code",
   "execution_count": null,
   "metadata": {},
   "outputs": [],
   "source": [
    "import os\n",
    "import topogenesis as tg\n",
    "import pyvista as pv\n",
    "import numpy as np\n",
    "from scipy.interpolate import RegularGridInterpolator"
   ]
  },
  {
   "cell_type": "markdown",
   "metadata": {},
   "source": [
    "### 0.2. Load the high resolution envelope lattice"
   ]
  },
  {
   "cell_type": "code",
   "execution_count": null,
   "metadata": {},
   "outputs": [],
   "source": [
    "# loading the lattice from csv\n",
    "lattice_path = os.path.relpath('../data/dynamic output/voxelized_envelope_highres.csv')\n",
    "env_lattice = tg.lattice_from_csv(lattice_path)\n",
    "print(env_lattice.shape)"
   ]
  },
  {
   "cell_type": "markdown",
   "metadata": {},
   "source": [
    "### 0.3. Load low resolution skyview lattice"
   ]
  },
  {
   "cell_type": "code",
   "execution_count": null,
   "metadata": {},
   "outputs": [],
   "source": [
    "# loading the lattice from csv\n",
    "lattice_path = os.path.relpath('../data/dynamic output/skyview_lowres.csv')\n",
    "low_skyview_lattice = tg.lattice_from_csv(lattice_path)\n",
    "print(low_skyview_lattice.shape)"
   ]
  },
  {
   "cell_type": "markdown",
   "metadata": {},
   "source": [
    "## 1. Interpolation\n",
    "\n",
    "### 1.1. Interpolating the low-res skyview to create the high-res skyview lattice"
   ]
  },
  {
   "cell_type": "code",
   "execution_count": null,
   "metadata": {},
   "outputs": [],
   "source": [
    "# line spaces\n",
    "x_space = np.linspace(low_skyview_lattice.minbound[0], low_skyview_lattice.maxbound[0],low_skyview_lattice.shape[0])\n",
    "y_space = np.linspace(low_skyview_lattice.minbound[1], low_skyview_lattice.maxbound[1],low_skyview_lattice.shape[1])\n",
    "z_space = np.linspace(low_skyview_lattice.minbound[2], low_skyview_lattice.maxbound[2],low_skyview_lattice.shape[2])\n",
    "\n",
    "# interpolation function\n",
    "interpolating_function = RegularGridInterpolator((x_space, y_space, z_space), low_skyview_lattice, bounds_error=False, fill_value=None)\n",
    "\n",
    "# high_res lattice\n",
    "full_lattice = env_lattice + 1\n",
    "\n",
    "# sample points\n",
    "sample_points = full_lattice.centroids\n",
    "\n",
    "# interpolation\n",
    "interpolated_values = interpolating_function(sample_points)\n",
    "\n",
    "# lattice construction\n",
    "skyview_lattice = tg.to_lattice(interpolated_values.reshape(env_lattice.shape), env_lattice)\n",
    "\n",
    "# nulling the unavailable cells\n",
    "skyview_lattice *= env_lattice\n",
    "\n",
    "print(skyview_lattice.shape)"
   ]
  },
  {
   "cell_type": "markdown",
   "metadata": {},
   "source": [
    "### 1.2. Visualize the high resolution interpolation of skyview"
   ]
  },
  {
   "cell_type": "code",
   "execution_count": null,
   "metadata": {},
   "outputs": [],
   "source": [
    "# convert mesh to pv_mesh\n",
    "def tri_to_pv(tri_mesh):\n",
    "    faces = np.pad(tri_mesh.faces, ((0, 0),(1,0)), 'constant', constant_values=3)\n",
    "    pv_mesh = pv.PolyData(tri_mesh.vertices, faces)\n",
    "    return pv_mesh\n",
    "\n",
    "# initiating the plotter\n",
    "p = pv.Plotter(notebook=True)\n",
    "\n",
    "# Create the spatial reference\n",
    "grid = pv.UniformGrid()\n",
    "\n",
    "# Set the grid dimensions: shape because we want to inject our values\n",
    "grid.dimensions = skyview_lattice.shape\n",
    "# The bottom left corner of the data set\n",
    "grid.origin = skyview_lattice.minbound\n",
    "# These are the cell sizes along each axis\n",
    "grid.spacing = skyview_lattice.unit\n",
    "\n",
    "# Add the data values to the cell data\n",
    "grid.point_arrays[\"Skyview\"] = skyview_lattice.flatten(order=\"F\")  # Flatten the Lattice\n",
    "\n",
    "# adding the meshes\n",
    "# p.add_mesh(tri_to_pv(context_mesh), opacity=0.1, style='wireframe')\n",
    "    \n",
    "# adding the volume\n",
    "opacity = np.array([0,0.6,0.6,0.6,0.6,0.6,0.6])\n",
    "p.add_volume(grid, cmap=\"coolwarm\", clim=[0, 1.0],opacity=opacity, shade=True)\n",
    "\n",
    "# plotting\n",
    "p.show(use_ipyvtk=True)"
   ]
  },
  {
   "cell_type": "markdown",
   "metadata": {},
   "source": [
    "### 1.3. Save the high resolution Skyview Lattice into a CSV"
   ]
  },
  {
   "cell_type": "code",
   "execution_count": null,
   "metadata": {},
   "outputs": [],
   "source": [
    "# save the skyview latice to csv\n",
    "csv_path = os.path.relpath('../data/dynamic output/skyview.csv')\n",
    "skyview_lattice.to_csv(csv_path)"
   ]
  },
  {
   "cell_type": "markdown",
   "metadata": {},
   "source": [
    "### Credits"
   ]
  },
  {
   "cell_type": "code",
   "execution_count": null,
   "metadata": {},
   "outputs": [],
   "source": [
    "__author__ = \"Shervin Azadi and Pirouz Nourian\"\n",
    "__license__ = \"MIT\"\n",
    "__version__ = \"1.0\"\n",
    "__url__ = \"https://github.com/shervinazadi/spatial_computing_workshops\"\n",
    "__summary__ = \"Spatial Computing Design Studio Workshop on Solar Envelope\""
   ]
  }
 ],
 "metadata": {
  "kernelspec": {
   "display_name": "Python 3.8.5 64-bit ('sc_workshops': conda)",
   "metadata": {
    "interpreter": {
     "hash": "787ea478c22349cf73d867deb0a19fc58e75e9742a9aed6f48d06cc412ad6e3b"
    }
   },
   "name": "python3"
  },
  "language_info": {
   "codemirror_mode": {
    "name": "ipython",
    "version": 3
   },
   "file_extension": ".py",
   "mimetype": "text/x-python",
   "name": "python",
   "nbconvert_exporter": "python",
   "pygments_lexer": "ipython3",
   "version": "3.8.8"
  }
 },
 "nbformat": 4,
 "nbformat_minor": 2
}
