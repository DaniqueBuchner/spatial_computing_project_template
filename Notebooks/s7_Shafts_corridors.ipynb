{
 "cells": [
  {
   "cell_type": "markdown",
   "metadata": {},
   "source": [
    "### Pseudocode\n",
    "```python\n",
    "import packages such as kmeans, numpy, networkx...\n",
    "import lattice\n",
    "\n",
    "create stencil\n",
    "\n",
    "# calculate cluster centers\n",
    "\n",
    "for each agent:\n",
    "    agent_locations = np.where\n",
    "    number_clusters = len(agent_locations / 100 +1)\n",
    "    kmeans = kmeans(nnumber_clusters)\n",
    "    cluster_centers.append()\n",
    "\n",
    "# make shafts\n",
    "\n",
    "again, kmeans = kmeans(n_clusters=5)\n",
    "for cluster:\n",
    "    shaft_lattice = 1\n",
    "\n",
    "# make adjacency matrix\n",
    "\n",
    "for all voxels:\n",
    "    voxel_neighbours = avail_latt.find_neighbours_masked(stencil)\n",
    "    for each neighbour:\n",
    "        if avail_latt[neighbour] == 1:\n",
    "            adjacency_list.append()\n",
    "\n",
    "Make connectivity graph\n",
    "\n",
    "# corridor growth\n",
    "\n",
    "for all clusters:\n",
    "    slice horizontally\n",
    "    for each shaft:\n",
    "        find shortest path to cluster with connectivity graph\n",
    "\n",
    "for each level:\n",
    "    find the shafts\n",
    "    for each shaft:\n",
    "        construct destination and source\n",
    "    for each destination:\n",
    "        find shortest path to a source(shaft) with connectivity graph\n",
    "        \n",
    "\n"
   ]
  },
  {
   "cell_type": "markdown",
   "metadata": {},
   "source": [
    "#### Load required libraries\n"
   ]
  },
  {
   "cell_type": "code",
   "execution_count": null,
   "metadata": {},
   "outputs": [],
   "source": [
    "import os\n",
    "import topogenesis as tg\n",
    "import pyvista as pv\n",
    "import trimesh as tm\n",
    "import numpy as np\n",
    "import networkx as nx\n",
    "import pandas as pd\n",
    "import scipy as sp\n",
    "from scipy.sparse import csr_matrix\n",
    "import pickle\n",
    "from sklearn.cluster import KMeans\n",
    "np.random.seed(0)\n",
    "import copy"
   ]
  },
  {
   "cell_type": "markdown",
   "metadata": {},
   "source": [
    "#### Loading the lattice"
   ]
  },
  {
   "cell_type": "code",
   "execution_count": null,
   "metadata": {},
   "outputs": [],
   "source": [
    "# extra import function\n",
    "def lattice_from_csv(file_path):\n",
    "    # read metadata\n",
    "    meta_df = pd.read_csv(file_path, nrows=3)\n",
    "\n",
    "    shape = np.array(meta_df['shape'])\n",
    "    unit = np.array(meta_df['unit'])\n",
    "    minbound = np.array(meta_df['minbound'])\n",
    "\n",
    "    # read lattice\n",
    "    lattice_df = pd.read_csv(file_path, skiprows=5)\n",
    "\n",
    "    # create the buffer\n",
    "    buffer = np.array(lattice_df['value']).reshape(shape)\n",
    "\n",
    "    # create the lattice\n",
    "    l = tg.to_lattice(buffer, minbound=minbound, unit=unit)\n",
    "\n",
    "    return l"
   ]
  },
  {
   "cell_type": "code",
   "execution_count": null,
   "metadata": {},
   "outputs": [],
   "source": [
    "last_frame = lattice_from_csv('../Data/dynamic output/abm_animation/abm_f_1200.csv')\n"
   ]
  },
  {
   "cell_type": "code",
   "execution_count": null,
   "metadata": {},
   "outputs": [],
   "source": [
    "# loading the lattice from csv\n",
    "lattice_path = os.path.relpath('../Data/dynamic output/voxelized_envelope_cut.csv')\n",
    "avail_lattice = tg.lattice_from_csv(lattice_path)\n",
    "init_avail_lattice = tg.to_lattice(np.copy(avail_lattice), avail_lattice)"
   ]
  },
  {
   "cell_type": "code",
   "execution_count": null,
   "metadata": {},
   "outputs": [],
   "source": [
    "# creating neighborhood definition\n",
    "stencil = tg.create_stencil(\"von_neumann\", 1, 1)\n",
    "# setting the center to zero\n",
    "stencil.set_index([0,0,0], 0)\n",
    "\n",
    "# creating neighborhood definition\n",
    "stencil_flat = tg.create_stencil(\"von_neumann\", 1, 1)\n",
    "# setting the center to zero\n",
    "stencil_flat.set_index([0,0,0], 0)\n",
    "stencil_flat.set_index([0,0,1], 0)\n",
    "stencil_flat.set_index([0,0,-1], 0)\n",
    "print(stencil_flat)"
   ]
  },
  {
   "cell_type": "code",
   "execution_count": null,
   "metadata": {},
   "outputs": [],
   "source": [
    "avail_index_bool = np.array((last_frame >= 0).tolist()) # making a new availability boolean lattice\n",
    "\n",
    "#lattice creation\n",
    "avail_lattice_bool = tg.to_lattice(avail_index_bool.reshape(avail_lattice.shape),avail_lattice)"
   ]
  },
  {
   "cell_type": "code",
   "execution_count": null,
   "metadata": {},
   "outputs": [],
   "source": [
    "# convert mesh to pv_mesh\n",
    "def tri_to_pv(tri_mesh):\n",
    "    faces = np.pad(tri_mesh.faces, ((0, 0),(1,0)), 'constant', constant_values=3)\n",
    "    pv_mesh = pv.PolyData(tri_mesh.vertices, faces)\n",
    "    return pv_mesh\n",
    "\n",
    "# Visualize the mesh using pyvista plotter\n",
    "\n",
    "# initiating the plotter\n",
    "p = pv.Plotter(notebook=True)\n",
    "\n",
    "# fast visualization of the lattice\n",
    "avail_lattice_bool.fast_vis(p)\n",
    "\n",
    "# plotting\n",
    "p.window_size = 1000, 1000\n",
    "# p.screenshot(\"corridors_1\")    \n",
    "#p.show(use_ipyvtk=True)\n"
   ]
  },
  {
   "cell_type": "markdown",
   "metadata": {},
   "source": [
    "### Calculate cluster centers"
   ]
  },
  {
   "cell_type": "code",
   "execution_count": null,
   "metadata": {},
   "outputs": [],
   "source": [
    "a = np.array(np.where(last_frame == 1)).T\n",
    "print(a)\n",
    "print(len(a))\n",
    "nclusters = int(len(a) / 100 + 1)\n",
    "#kmeans_model = KMeans(n_clusters= nclusters, random_state=0).fit(a)\n",
    "#print(kmeans_model)\n",
    "cluster_centers = []\n",
    "for func_id in range(0, int(np.max(last_frame)) + 1):\n",
    "    if not func_id in [1]: #taking out a bug in one of the agents\n",
    "        function_locs = np.array(np.where(last_frame == func_id)).T\n",
    "        \n",
    "        # for every multiple of 100 voxels a cluster center is created and at least 1 per agent\n",
    "        nclusters = int(len(function_locs) / 100 + 1)\n",
    "        \n",
    "        kmeans_model = KMeans(n_clusters= nclusters, random_state=0).fit(function_locs)\n",
    "        cluster_centers.append(np.round(kmeans_model.cluster_centers_).astype(np.int8))\n",
    "\n",
    "# making sure it's no longer a nested cluster center list\n",
    "cluster_center_list = []\n",
    "for i in range(len(cluster_centers)):\n",
    "    cluster_center_list.append(cluster_centers[i][0])\n",
    "\n",
    "#creating a lattice that shows all cluster centers\n",
    "cluster_center_lattice = avail_lattice_bool * 0\n",
    "for cluster_center in cluster_center_list:\n",
    "    cluster_center_lattice[cluster_center[0], cluster_center[1], cluster_center[2]] = 1\n"
   ]
  },
  {
   "cell_type": "markdown",
   "metadata": {},
   "source": [
    "#### Visualizing cluster"
   ]
  },
  {
   "cell_type": "code",
   "execution_count": null,
   "metadata": {},
   "outputs": [],
   "source": [
    "p = pv.Plotter(notebook=True)\n",
    "\n",
    "base_lattice = cluster_center_lattice\n",
    "\n",
    "# Set the grid dimensions: shape + 1 because we want to inject our values on the CELL data\n",
    "grid = pv.UniformGrid()\n",
    "grid.dimensions = np.array(base_lattice.shape) + 1\n",
    "# The bottom left corner of the data set\n",
    "grid.origin = base_lattice.minbound - base_lattice.unit * 0.5\n",
    "# These are the cell sizes along each axis\n",
    "grid.spacing = base_lattice.unit \n",
    "\n",
    "# adding the boundingbox wireframe\n",
    "p.add_mesh(grid.outline(), color=\"grey\", label=\"Domain\")\n",
    "\n",
    "# adding the avilability lattice\n",
    "avail_lattice_bool.fast_vis(p)\n",
    "\n",
    "# Add the data values to the cell data\n",
    "grid.cell_arrays[\"Agents\"] = base_lattice.flatten(order=\"F\").astype(int)  # Flatten the array!\n",
    "# filtering the voxels\n",
    "threshed = grid.threshold([0.9, 1.1])\n",
    "# adding the voxels\n",
    "p.add_mesh(threshed, name='sphere', show_edges=True, opacity=1.0, show_scalar_bar=False, color = [1,1,0])\n",
    "\n",
    "p.window_size = 1000, 1000\n",
    "#p.screenshot(\"clusters\")    \n",
    "p.show(use_ipyvtk=True)"
   ]
  },
  {
   "cell_type": "markdown",
   "metadata": {},
   "source": [
    "### Make shafts"
   ]
  },
  {
   "cell_type": "code",
   "execution_count": null,
   "metadata": {},
   "outputs": [],
   "source": [
    "kmeans_model = KMeans(n_clusters=5, random_state=0).fit(cluster_center_list) # select how many shafts\n",
    "cluster_centers_total = np.round(kmeans_model.cluster_centers_).astype(np.int8)\n",
    "\n",
    "# init shaft lattice\n",
    "shft_lattice = avail_lattice_bool * 0\n",
    "# setting the shafts to 1\n",
    "for cl_cen in cluster_centers_total:\n",
    "    shft_lattice[cl_cen[0],cl_cen[1],:] = 1\n"
   ]
  },
  {
   "cell_type": "markdown",
   "metadata": {},
   "source": [
    "### Visualize"
   ]
  },
  {
   "cell_type": "code",
   "execution_count": null,
   "metadata": {},
   "outputs": [],
   "source": [
    "p = pv.Plotter(notebook=True)\n",
    "\n",
    "base_lattice = shft_lattice * avail_lattice_bool\n",
    "\n",
    "# Set the grid dimensions: shape + 1 because we want to inject our values on the CELL data\n",
    "grid = pv.UniformGrid()\n",
    "grid.dimensions = np.array(base_lattice.shape) + 1\n",
    "# The bottom left corner of the data set\n",
    "grid.origin = base_lattice.minbound - base_lattice.unit * 0.5\n",
    "# These are the cell sizes along each axis\n",
    "grid.spacing = base_lattice.unit \n",
    "\n",
    "# adding the boundingbox wireframe\n",
    "p.add_mesh(grid.outline(), color=\"grey\", label=\"Domain\")\n",
    "\n",
    "# adding the avilability lattice\n",
    "avail_lattice_bool.fast_vis(p)\n",
    "\n",
    "# Add the data values to the cell data\n",
    "grid.cell_arrays[\"Agents\"] = base_lattice.flatten(order=\"F\").astype(int)  # Flatten the array!\n",
    "# filtering the voxels\n",
    "threshed = grid.threshold([0.9, 1.1])\n",
    "# adding the voxels\n",
    "p.add_mesh(threshed, name='sphere', show_edges=True, opacity=1.0, show_scalar_bar=False)\n",
    "\n",
    "p.window_size = 1000, 1000\n",
    "#p.screenshot(\"shafts\")    \n",
    "p.show(use_ipyvtk=True)"
   ]
  },
  {
   "cell_type": "markdown",
   "metadata": {},
   "source": [
    "#### Make adjacency matrix"
   ]
  },
  {
   "cell_type": "code",
   "execution_count": null,
   "metadata": {},
   "outputs": [],
   "source": [
    "avail_lattice_flat = avail_lattice_bool.flatten()\n",
    "\n",
    "# find the number of all voxels\n",
    "vox_count = avail_lattice_bool.size \n",
    "\n",
    "# initialize the adjacency matrix\n",
    "adj_list = []\n",
    "\n",
    "# Finding the index of the available voxels in avail_lattice\n",
    "avail_index = np.array(np.where(avail_lattice_bool == 1)).T\n",
    "\n",
    "# fill the adjacency matrix using the list of all neighbours\n",
    "for vox_loc in avail_index:\n",
    "    # find the 1D id\n",
    "    vox_id = np.ravel_multi_index(vox_loc, avail_lattice_bool.shape)\n",
    "    \n",
    "    # retrieve the list of neighbours of the voxel based on the stencil\n",
    "    vox_neighs = init_avail_lattice.find_neighbours_masked(stencil, loc = vox_loc)\n",
    "    \n",
    "   # iterating over the neighbours\n",
    "    for neigh in vox_neighs:\n",
    "        if avail_lattice_flat[neigh] == 1:\n",
    "            adj_list.append([1.0, vox_id, neigh])\n",
    "\n",
    "#list to array\n",
    "adj_array = np.array(adj_list).T\n",
    "\n",
    "#array to sparce matrix\n",
    "adj_matrix_sparse =  csr_matrix((adj_array[0], (adj_array[1], adj_array[2])), shape=(vox_count,vox_count))\n",
    "\n",
    "#sparce matrix to nx connectivity graph\n",
    "g = nx.from_scipy_sparse_matrix(adj_matrix_sparse)"
   ]
  },
  {
   "cell_type": "markdown",
   "metadata": {},
   "source": [
    "#### Corridor growth"
   ]
  },
  {
   "cell_type": "code",
   "execution_count": null,
   "metadata": {},
   "outputs": [],
   "source": [
    "occ_ind = cluster_center_list\n",
    "\n",
    "# initialize corridor lattice\n",
    "cor_lattice = shft_lattice * 0\n",
    "cor_flat = cor_lattice.flatten()\n",
    "# for each voxel that needs to have access to shafts\n",
    "for a_vox in occ_ind:\n",
    "    \n",
    "    # slice the corridor lattice horizontally\n",
    "    cor_floor = shft_lattice[:,:,a_vox[2]]\n",
    "    # find the vertical shaft voxel indices\n",
    "    shaft_vox_inds = np.array(np.where(cor_floor > 0)).T\n",
    "    paths = []\n",
    "    path_lens = []\n",
    "    for shft_ind in shaft_vox_inds:\n",
    "        # construct the destination address\n",
    "        dst_vox = np.array([shft_ind[0],shft_ind[1],a_vox[2]])\n",
    "        # construct 1-dimensional indices\n",
    "        src_ind = np.ravel_multi_index(a_vox, shft_lattice.shape)\n",
    "        dst_ind = np.ravel_multi_index(dst_vox, shft_lattice.shape)        \n",
    "        # find the shortest path\n",
    "        if nx.algorithms.shortest_paths.generic.has_path(g, src_ind, dst_ind):\n",
    "            path = nx.algorithms.shortest_paths.astar.astar_path(g, src_ind, dst_ind)\n",
    "            paths.append(path)\n",
    "            path_lens.append(len(path))\n",
    "    \n",
    "    # find the number of shortest path\n",
    "    for shortest_path_index in np.array(path_lens).argsort()[:1]: #select how many paths to connect to closest shafts\n",
    "        cor_flat[paths[shortest_path_index]] = 1\n",
    "        \n",
    "#set the floor level the shafts need to be connected\n",
    "connected_floor_levels = [2]\n",
    "\n",
    "for level in connected_floor_levels:\n",
    "    cur_floor_level = shft_lattice[:,:,level] #finding floor level\n",
    "    shaft_vox_inds = np.array(np.where(cur_floor_level > 0)).T #finding shafts\n",
    "    dst_ind_list = []\n",
    "    source_ind_list = []\n",
    "    for shft_ind in shaft_vox_inds:\n",
    "        # construct the destination address\n",
    "        dst_vox = np.array([shft_ind[0],shft_ind[1],level])\n",
    "        index = np.ravel_multi_index(dst_vox, shft_lattice.shape) #finding the 1D index\n",
    "        #setting the indices as both src and dst\n",
    "        dst_ind_list.append(index) \n",
    "        source_ind_list.append(index)\n",
    "\n",
    "    for dst_ind in dst_ind_list:\n",
    "        paths = []\n",
    "        path_lens = []\n",
    "        for source_ind in source_ind_list: #checking if path to itself\n",
    "            if dst_ind == source_ind:\n",
    "                continue\n",
    "            if nx.algorithms.shortest_paths.generic.has_path(g, source_ind, dst_ind):\n",
    "                path = nx.algorithms.shortest_paths.astar.astar_path(g, source_ind, dst_ind) #finding the closest paths\n",
    "                paths.append(path)\n",
    "                path_lens.append(len(path))\n",
    "            \n",
    "        # find the 2 shortest paths\n",
    "        for shortest_path_index in np.array(path_lens).argsort()[:2]: # selecting how many paths to connect to closests shafts\n",
    "            cor_flat[paths[shortest_path_index]] = 1       \n",
    "\n",
    "# reshape the flat lattice\n",
    "cor_lattice = cor_flat.reshape(cor_lattice.shape)"
   ]
  },
  {
   "cell_type": "markdown",
   "metadata": {},
   "source": [
    "#### Visualize"
   ]
  },
  {
   "cell_type": "code",
   "execution_count": null,
   "metadata": {},
   "outputs": [],
   "source": [
    "p = pv.Plotter(notebook=True)\n",
    "\n",
    "base_lattice = (shft_lattice + cor_lattice) * avail_lattice_bool\n",
    "\n",
    "# Set the grid dimensions: shape + 1 because we want to inject our values on the CELL data\n",
    "grid = pv.UniformGrid()\n",
    "grid.dimensions = np.array(base_lattice.shape) + 1\n",
    "# The bottom left corner of the data set\n",
    "grid.origin = base_lattice.minbound - base_lattice.unit * 0.5\n",
    "# These are the cell sizes along each axis\n",
    "grid.spacing = base_lattice.unit \n",
    "\n",
    "# adding the boundingbox wireframe\n",
    "p.add_mesh(grid.outline(), color=\"grey\", label=\"Domain\")\n",
    "\n",
    "# adding the avilability lattice\n",
    "avail_lattice_bool.fast_vis(p)\n",
    "\n",
    "# Add the data values to the cell data\n",
    "grid.cell_arrays[\"Agents\"] = base_lattice.flatten(order=\"F\").astype(int)  # Flatten the array!\n",
    "# filtering the voxels\n",
    "threshed = grid.threshold([0.9, 2.1])\n",
    "# adding the voxels\n",
    "p.add_mesh(threshed, name='sphere', show_edges=True, opacity=1.0, show_scalar_bar=False)\n",
    "\n",
    "p.window_size = 1000, 1000\n",
    "p#.screenshot(\"corridors\")    \n",
    "p.show(use_ipyvtk=True)"
   ]
  },
  {
   "cell_type": "code",
   "execution_count": null,
   "metadata": {},
   "outputs": [],
   "source": [
    "shafts_and_corridors_lattice = avail_lattice_bool * 0\n",
    "shafts_and_corridors_lattice[np.where(cor_lattice == 1)] = 2\n",
    "shafts_and_corridors_lattice[np.where(shft_lattice == 1)] = 1\n",
    "shafts_and_corridors_lattice *= avail_lattice_bool"
   ]
  },
  {
   "cell_type": "code",
   "execution_count": null,
   "metadata": {},
   "outputs": [],
   "source": [
    "csv_path = os.path.relpath('../data/dynamic output/shafts_and_corridors_lattice.csv')\n",
    "shafts_and_corridors_lattice.to_csv(csv_path)\n",
    "\n",
    "csv_path = os.path.relpath('../data/dynamic output/avail_lattice_bool1.csv')\n",
    "avail_lattice_bool.to_csv(csv_path)\n"
   ]
  },
  {
   "cell_type": "markdown",
   "metadata": {},
   "source": [
    "#### Credits"
   ]
  },
  {
   "cell_type": "code",
   "execution_count": null,
   "metadata": {},
   "outputs": [],
   "source": [
    "__author__ = \"Shervin Azadi and Pirouz Nourian\"\n",
    "__license__ = \"MIT\"\n",
    "__version__ = \"1.0\"\n",
    "__url__ = \"https://github.com/shervinazadi/spatial_computing_workshops\"\n",
    "__summary__ = \"Spatial Computing Design Studio Workshop on MCDA and Path Finding for Generative Spatial Relations\""
   ]
  }
 ],
 "metadata": {
  "interpreter": {
   "hash": "28a2f6de4be54e4b20c98f94606463bb978ba5635399bf418f15e23a59959bf5"
  },
  "kernelspec": {
   "display_name": "Python 3.8.8 64-bit ('base': conda)",
   "language": "python",
   "name": "python3"
  },
  "language_info": {
   "codemirror_mode": {
    "name": "ipython",
    "version": 3
   },
   "file_extension": ".py",
   "mimetype": "text/x-python",
   "name": "python",
   "nbconvert_exporter": "python",
   "pygments_lexer": "ipython3",
   "version": "3.8.8"
  },
  "orig_nbformat": 4
 },
 "nbformat": 4,
 "nbformat_minor": 2
}
