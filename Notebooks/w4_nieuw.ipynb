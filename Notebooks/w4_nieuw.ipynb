{
 "cells": [
  {
   "cell_type": "markdown",
   "metadata": {},
   "source": [
    "# Generative Spaces (ABM)\n",
    "\n",
    "In this workshop we will learn how to construct a ABM (Agent Based Model) with spatial behaviours, that is capable of configuring the space. This file is a simplified version of Generative Spatial Agent Based Models. For further information, you can find more advanced versions here:\n",
    "\n",
    "* [Object Oriented version](https://github.com/shervinazadi/spatial_computing_workshops/blob/master/notebooks/w3_generative_spaces.ipynb)\n",
    "* [Vectorized version](https://topogenesis.readthedocs.io/notebooks/random_walker)"
   ]
  },
  {
   "cell_type": "markdown",
   "metadata": {},
   "source": [
    "## 0. Initialization\n",
    "\n",
    "### 0.1. Load required libraries"
   ]
  },
  {
   "cell_type": "code",
   "execution_count": null,
   "metadata": {},
   "outputs": [],
   "source": [
    "# !pip install pyvista==0.28.1 ipyvtklink"
   ]
  },
  {
   "cell_type": "code",
   "execution_count": null,
   "metadata": {},
   "outputs": [],
   "source": [
    "import os\n",
    "import topogenesis as tg\n",
    "import pyvista as pv\n",
    "import trimesh as tm\n",
    "import pandas as pd\n",
    "import numpy as np\n",
    "\n",
    "np.random.seed(0)"
   ]
  },
  {
   "cell_type": "markdown",
   "metadata": {},
   "source": [
    "## Parameter settings"
   ]
  },
  {
   "cell_type": "code",
   "execution_count": null,
   "metadata": {},
   "outputs": [],
   "source": [
    "# The number of frames of the growth model\n",
    "n_frames = 30\n"
   ]
  },
  {
   "cell_type": "markdown",
   "metadata": {},
   "source": [
    "### 0.2. Define the Neighborhood (Stencil)"
   ]
  },
  {
   "cell_type": "code",
   "execution_count": null,
   "metadata": {},
   "outputs": [],
   "source": [
    "# creating neighborhood definition\n",
    "stencil = tg.create_stencil(\"von_neumann\", 1, 1)\n",
    "# setting the center to zero\n",
    "stencil.set_index([0,0,0], 0)\n",
    "print(stencil)"
   ]
  },
  {
   "cell_type": "markdown",
   "metadata": {},
   "source": [
    "### 0.3 Visualize the Stencil"
   ]
  },
  {
   "cell_type": "code",
   "execution_count": null,
   "metadata": {},
   "outputs": [],
   "source": [
    "# initiating the plotter\n",
    "p = pv.Plotter(notebook=True)\n",
    "\n",
    "# Create the spatial reference\n",
    "grid = pv.UniformGrid()\n",
    "\n",
    "# Set the grid dimensions: shape because we want to inject our values\n",
    "grid.dimensions = np.array(stencil.shape) + 1\n",
    "# The bottom left corner of the data set\n",
    "grid.origin = [0,0,0]\n",
    "# These are the cell sizes along each axis\n",
    "grid.spacing = [1,1,1]\n",
    "\n",
    "# Add the data values to the cell data\n",
    "grid.cell_arrays[\"values\"] = stencil.flatten(order=\"F\")  # Flatten the stencil\n",
    "threshed = grid.threshold([0.9, 1.1])\n",
    "\n",
    "# adding the voxels: light red\n",
    "p.add_mesh(threshed, show_edges=True, color=\"#ff8fa3\", opacity=0.3)\n",
    "\n",
    "# plotting\n",
    "p.show(use_ipyvtk=True)"
   ]
  },
  {
   "cell_type": "markdown",
   "metadata": {},
   "source": [
    "## 1. Setup the Environment\n",
    "\n",
    "### 1.1. Load the envelope lattice as the avialbility lattice"
   ]
  },
  {
   "cell_type": "code",
   "execution_count": null,
   "metadata": {},
   "outputs": [],
   "source": [
    "# loading the lattice from csv\n",
    "lattice_path = os.path.relpath('../Data/dynamic output/voxelized_envelope.csv')\n",
    "avail_lattice = tg.lattice_from_csv(lattice_path)\n",
    "init_avail_lattice = tg.to_lattice(np.copy(avail_lattice), avail_lattice)"
   ]
  },
  {
   "cell_type": "markdown",
   "metadata": {},
   "source": [
    "### 1.2 Load Program"
   ]
  },
  {
   "cell_type": "code",
   "execution_count": null,
   "metadata": {},
   "outputs": [],
   "source": [
    "# Load preference\n",
    "program_complete = pd.read_csv(\"../Data/raw data/Programme_pref.csv\")\n",
    "program_complete = program_complete.drop([\"sunlight\"], 1)\n",
    "program_complete['noise_field'] *= -1\n",
    "program_complete['dist_entrance'] *= -1\n",
    "program_complete['dist_fac'] *= -1\n",
    "program_complete"
   ]
  },
  {
   "cell_type": "code",
   "execution_count": null,
   "metadata": {},
   "outputs": [],
   "source": [
    "# Simplify it\n",
    "program_prefs = program_complete.drop([\"space_name\",\"space_id\"], 1)\n",
    "program_prefs"
   ]
  },
  {
   "cell_type": "code",
   "execution_count": null,
   "metadata": {},
   "outputs": [],
   "source": [
    "# Load agent sizes\n",
    "sizes_complete = pd.read_csv(\"../Data/raw data/Agent_sizes.csv\")\n",
    "\n",
    "display(sizes_complete)\n"
   ]
  },
  {
   "cell_type": "code",
   "execution_count": null,
   "metadata": {},
   "outputs": [],
   "source": [
    "sizes_complete = sizes_complete.drop([\"Agent\", \"Area\", \"Percentage\"], 1)\n",
    "display(sizes_complete)"
   ]
  },
  {
   "cell_type": "markdown",
   "metadata": {},
   "source": [
    "#### Calculating agent sizes in voxels"
   ]
  },
  {
   "cell_type": "code",
   "execution_count": null,
   "metadata": {},
   "outputs": [],
   "source": [
    "agent_sizes = []\n",
    "for i in sizes_complete:\n",
    "    part = sizes_complete.Part[i]\n",
    "    agent_sizes[i] = part*total_voxels\n",
    "    \n",
    "    "
   ]
  },
  {
   "cell_type": "markdown",
   "metadata": {},
   "source": [
    "### 1.2 Load the value fields"
   ]
  },
  {
   "cell_type": "code",
   "execution_count": null,
   "metadata": {},
   "outputs": [],
   "source": [
    "# loading the lattice from csv\n",
    "fields = {}\n",
    "for f in program_prefs.columns:\n",
    "    lattice_path = os.path.relpath('../Data/dynamic output/' + f + '.csv') # should care naming of csv\n",
    "    fields[f] = tg.lattice_from_csv(lattice_path)"
   ]
  },
  {
   "cell_type": "markdown",
   "metadata": {},
   "source": [
    "### 1.3. Initialize the Agents"
   ]
  },
  {
   "cell_type": "code",
   "execution_count": null,
   "metadata": {},
   "outputs": [],
   "source": [
    "# initialize the occupation lattice\n",
    "occ_lattice = avail_lattice * 0 - 1 # -1 means no agent is using it\n",
    "\n",
    "# Finding the index of the available voxels in avail_lattice\n",
    "avail_flat = avail_lattice.flatten()\n",
    "avail_index = np.array(np.where(avail_lattice)).T\n",
    "\n",
    "# Randomly choosing three available voxels\n",
    "agn_num = len(program_complete) \n",
    "\n",
    "select_id = np.random.choice(len(avail_index), agn_num)\n",
    "agn_origins = avail_index[select_id] # Transform choosing 3D index to choose 1D and then locate it back to 3D\n",
    "\n",
    "# adding the origins to the agents locations\n",
    "agn_locs = []\n",
    "# for each agent origin ... \n",
    "for a_id, a_origin in enumerate(agn_origins):\n",
    "    # add the origin to the list of agent locations\n",
    "    agn_locs.append([a_origin])\n",
    "    # set the origin in availablity lattice as 0 (UNavailable)\n",
    "    avail_lattice[tuple(a_origin)] = 0\n",
    "    # set the origin in occupation lattice as the agent id (a_id)\n",
    "    occ_lattice[tuple(a_origin)] = a_id"
   ]
  },
  {
   "cell_type": "code",
   "execution_count": null,
   "metadata": {},
   "outputs": [],
   "source": [
    "# agn_locs = []\n",
    "# for a_id, a_prefs in program_complete.iterrows():\n",
    "#     print(sum(avail_index==0))\n",
    "#     a_eval = np.ones(len(avail_index))\n",
    "#     for f in program_prefs.columns: # f represents names\n",
    "#         # find the raw value of free neighbours...\n",
    "#         vals = fields[f][avail_index[:,0], avail_index[:,1], avail_index[:,2]] # vals should be an array of length of fns\n",
    "#         # raise the the raw value to the power of preference weight of the agent\n",
    "#         a_weighted_vals = vals ** a_prefs[f]\n",
    "#         # multiply them to the previous weighted values\n",
    "#         a_eval *= a_weighted_vals"
   ]
  },
  {
   "cell_type": "markdown",
   "metadata": {},
   "source": [
    "### 1.4. Visualize the environment"
   ]
  },
  {
   "cell_type": "code",
   "execution_count": null,
   "metadata": {},
   "outputs": [],
   "source": [
    "p = pv.Plotter(notebook=True)\n",
    "\n",
    "# Set the grid dimensions: shape + 1 because we want to inject our values on the CELL data\n",
    "grid = pv.UniformGrid()\n",
    "grid.dimensions = np.array(occ_lattice.shape) + 1\n",
    "# The bottom left corner of the data set\n",
    "grid.origin = occ_lattice.minbound - occ_lattice.unit * 0.5\n",
    "# These are the cell sizes along each axis\n",
    "grid.spacing = occ_lattice.unit \n",
    "\n",
    "# adding the boundingbox wireframe\n",
    "p.add_mesh(grid.outline(), color=\"grey\", label=\"Domain\")\n",
    "\n",
    "# adding axes\n",
    "p.add_axes()\n",
    "p.show_bounds(grid=\"back\", location=\"back\", color=\"#777777\")\n",
    "\n",
    "# Add the data values to the cell data\n",
    "grid.cell_arrays[\"Agents\"] = occ_lattice.flatten(order=\"F\").astype(int)  # Flatten the array!\n",
    "# filtering the voxels\n",
    "threshed = grid.threshold([-0.1, agn_num - 0.9])\n",
    "# adding the voxels\n",
    "p.add_mesh(threshed, show_edges=True, opacity=1.0, show_scalar_bar=False)\n",
    "\n",
    "# adding the availability lattice\n",
    "init_avail_lattice.fast_vis(p)\n",
    "\n",
    "p.show(use_ipyvtk=True)"
   ]
  },
  {
   "cell_type": "markdown",
   "metadata": {},
   "source": [
    "## 2. ABM Simulation (Agent Based Space Occupation)\n",
    "\n",
    "### 2.1. Running the simulation"
   ]
  },
  {
   "cell_type": "code",
   "execution_count": null,
   "metadata": {},
   "outputs": [],
   "source": [
    "program_complete"
   ]
  },
  {
   "cell_type": "code",
   "execution_count": null,
   "metadata": {},
   "outputs": [],
   "source": [
    "program_test = pd.read_csv(\"../Data/raw data/adjacency_matrix.csv\")\n",
    "program_test = program_test.drop([\"Unnamed: 0\"], 1)\n",
    "program_test"
   ]
  },
  {
   "cell_type": "code",
   "execution_count": null,
   "metadata": {},
   "outputs": [],
   "source": [
    "# To create the second requirement, I will write a method to calculate euclidian distance in lattice\n",
    "# This part uses the same idea in w2 distance_fields\n",
    "def distance_field(a_id):\n",
    "    lattice_cens = init_avail_lattice.centroids_threshold(-1)\n",
    "    dist_m = []\n",
    "    for voxel_cen in lattice_cens:\n",
    "        dist_v = []\n",
    "        for agent_location in agn_locs[a_id]:\n",
    "            diff = voxel_cen - agent_location\n",
    "            diff_p2 = diff**2\n",
    "            diff_p2s = diff_p2.sum()\n",
    "            dist = diff_p2s**0.5\n",
    "            dist_v.append(dist)\n",
    "        dist_m.append(dist_v)\n",
    "    dist_m = np.array(dist_m)\n",
    "    min_dist = dist_m.min(axis=1)\n",
    "    agent_eu_distance_lattice = tg.to_lattice(min_dist.reshape(init_avail_lattice.shape), init_avail_lattice)\n",
    "    envelope_eu_dist_lattice = agent_eu_distance_lattice * init_avail_lattice\n",
    "    envelope_eu_dist_lattice[init_avail_lattice==False] -= 1\n",
    "    return(envelope_eu_dist_lattice)\n",
    "\n",
    "# initialize fields\n",
    "for a_id, a_prefs in program_complete.iterrows():\n",
    "    fields[a_id] = distance_field(a_id)\n",
    "        "
   ]
  },
  {
   "cell_type": "code",
   "execution_count": null,
   "metadata": {},
   "outputs": [],
   "source": [
    "# make a deep copy of occupation lattice\n",
    "cur_occ_lattice = tg.to_lattice(np.copy(occ_lattice), occ_lattice)\n",
    "# initialzing the list of frames\n",
    "frames = [cur_occ_lattice]\n",
    "\n",
    "# setting the time variable to 0\n",
    "t = 0\n",
    "\n",
    "# main feedback loop of the simulation (for each time step ...)\n",
    "while t<n_frames: # For every time\n",
    "    # for each agent ...\n",
    "    for a_id, a_prefs in program_complete.iterrows():\n",
    "        # retrieve the list of the locations of the current agent\n",
    "        a_locs = agn_locs[a_id]\n",
    "        # initialize the list of free neighbours\n",
    "        free_neighs = []\n",
    "        # for each location of the agent\n",
    "        for loc in a_locs:\n",
    "            # retrieve the list of neighbours of the agent based on the stencil\n",
    "            neighs = avail_lattice.find_neighbours_masked(stencil, loc = loc)\n",
    "            # for each neighbour ... \n",
    "            for n in neighs:\n",
    "                # compute 3D index of neighbour\n",
    "                neigh_3d_id = np.unravel_index(n, avail_lattice.shape) # for checking availability\n",
    "                # if the neighbour is available... \n",
    "                if avail_lattice[neigh_3d_id]: # True -> Free\n",
    "                    # add the neighbour to the list of free neighbours\n",
    "                    free_neighs.append(neigh_3d_id) # Do not care about counting for the second time.\n",
    "        # check if found any free neighbour\n",
    "        if len(free_neighs)>0:\n",
    "            # convert free neighbours to a numpy array\n",
    "            fns = np.array(free_neighs)\n",
    "\n",
    "            # find the value of neighbours\n",
    "            # init the agent value array\n",
    "            a_eval = np.ones(len(fns)) # First set all values to 1\n",
    "            # This is the part to make amandment on choosing which block\n",
    "            # for each field...\n",
    "            for f in program_prefs.columns: # f represents names\n",
    "                # find the raw value of free neighbours...\n",
    "                vals = fields[f][fns[:,0], fns[:,1], fns[:,2]] # vals should be an array of length of fns\n",
    "                # raise the the raw value to the power of preference weight of the agent\n",
    "                a_weighted_vals = vals ** a_prefs[f]\n",
    "                # multiply them to the previous weighted values\n",
    "                a_eval *= a_weighted_vals\n",
    "            \n",
    "            # now this part add the desirable space vicinity into the account\n",
    "            for s in program_test.columns:\n",
    "                s = int(s)\n",
    "                vals = fields[s][fns[:,0], fns[:,1], fns[:,2]]\n",
    "                a_weighted_vals = vals ** program_test[str(a_id)][s]\n",
    "                a_eval *= a_weighted_vals\n",
    "\n",
    "            # This is the part that takes square shape of room into the account\n",
    "            square_weight = 0.1\n",
    "            free_neighs_count = []\n",
    "            # count can find how many times a location appears\n",
    "            for free_neigh in free_neighs:\n",
    "                free_neighs_count.append(free_neighs.count(free_neigh))\n",
    "            # 0.1 can be modified, I choose it to make it less effective (check x^0.1 graph at Z)\n",
    "            # If a location is pointed for several times, it refers to more squared shape\n",
    "            a_weighted_square = np.array(free_neighs_count) ** square_weight\n",
    "            a_eval *= a_weighted_square\n",
    "\n",
    "            # Here, when it reaches the maximum space needed, start to evaluate inner voxels\n",
    "            current_length = np.copy(len(a_locs))\n",
    "            # This part means nothing, just for prevention of bugs\n",
    "            i_eval = np.zeros(current_length)\n",
    "            # max_space can be modified, or iterable (max_space[a_id])\n",
    "            max_space = 20\n",
    "            # If the space occupied by this agent reaches designated\n",
    "            if current_length >= max_space:\n",
    "                i_eval = np.ones(current_length)\n",
    "                # The following parts do exactly the same calculations\n",
    "                # Calculating fields\n",
    "                for f in program_prefs.columns:\n",
    "                    vals = fields[f][np.array(a_locs)[:,0], np.array(a_locs)[:,1], np.array(a_locs)[:,2]]\n",
    "                    a_weighted_vals = vals ** a_prefs[f]\n",
    "                    i_eval *= a_weighted_vals\n",
    "\n",
    "                # Calculating closeness\n",
    "                for s in program_test.columns:\n",
    "                    s = int(s)\n",
    "                    vals = fields[s][np.array(a_locs)[:,0], np.array(a_locs)[:,1], np.array(a_locs)[:,2]]\n",
    "                    a_weighted_vals = vals ** program_test[str(a_id)][s]\n",
    "                    i_eval *= a_weighted_vals\n",
    "                \n",
    "                # Calculating squareness is bit different but the idea is same.\n",
    "                i_neighs_count = np.zeros(current_length)\n",
    "                for id,loc in enumerate(a_locs):\n",
    "                    # Find neighbors of each point in location\n",
    "                    neighs = init_avail_lattice.find_neighbours_masked(stencil, loc = loc)\n",
    "                    for n in neighs:\n",
    "                        # Use occ_lattice == a_id to check if the neighborhoods of that point are the same agent.\n",
    "                        neigh_3d_id = np.unravel_index(n, avail_lattice.shape)\n",
    "                        i_neighs_count[id] += (occ_lattice==a_id)[neigh_3d_id]\n",
    "                i_weighted_square = np.array(i_neighs_count) ** square_weight\n",
    "                i_eval *= i_weighted_square\n",
    "\n",
    "            # select the inner with lowest evaluation\n",
    "            selected_int_inner = np.argmin(i_eval)\n",
    "            # select the neighbour with highest evaluation\n",
    "            selected_int = np.argmax(a_eval)\n",
    "\n",
    "            # If the agent reaches the required space, and the new free neighbour is better\n",
    "            # Then we have to remove the old voxel\n",
    "            if (current_length >= max_space) and i_eval[selected_int_inner] < a_eval[selected_int]:\n",
    "                selected_inner_3d_id = tuple(a_locs[selected_int_inner])\n",
    "                selected_inner_loc = a_locs[selected_int_inner]\n",
    "                agn_locs[a_id].pop(selected_int_inner)\n",
    "                avail_lattice[selected_inner_3d_id] = 1\n",
    "                occ_lattice[selected_inner_3d_id] = -1\n",
    "\n",
    "            # If the agent does not reach the required space, or we already removed old voxel\n",
    "            # Then we need to add new voxel\n",
    "            if (not current_length >= max_space) or (current_length >= max_space and i_eval[selected_int_inner] < a_eval[selected_int]):\n",
    "                # find 3D integer index of selected neighbour\n",
    "                selected_neigh_3d_id = free_neighs[selected_int]\n",
    "                # find the location of the newly selected neighbour\n",
    "                selected_neigh_loc = np.array(selected_neigh_3d_id).flatten()\n",
    "                # add the newly selected neighbour location to agent locations\n",
    "                agn_locs[a_id].append(selected_neigh_loc)\n",
    "                # set the newly selected neighbour as UNavailable (0) in the availability lattice\n",
    "                avail_lattice[selected_neigh_3d_id] = 0\n",
    "                # set the newly selected neighbour as OCCUPIED by current agent \n",
    "                # (-1 means not-occupied so a_id)\n",
    "                occ_lattice[selected_neigh_3d_id] = a_id\n",
    "            \n",
    "            # If the agent reaches the required space and the old voxels are better, we do nothing\n",
    "            # Then we can wait other fields to be updated\n",
    "\n",
    "            # Here distance fields are updated (after agn_locs)\n",
    "            fields[a_id] = distance_field(a_id)\n",
    "\n",
    "    # constructing the new lattice\n",
    "    new_occ_lattice = tg.to_lattice(np.copy(occ_lattice), occ_lattice)\n",
    "    # adding the new lattice to the list of frames\n",
    "    frames.append(new_occ_lattice) # For drawing graphes\n",
    "    # adding one to the time counter\n",
    "    print(t, end=\" \")\n",
    "    t += 1"
   ]
  },
  {
   "cell_type": "markdown",
   "metadata": {},
   "source": [
    "### 2.2. Visualizing the simulation"
   ]
  },
  {
   "cell_type": "code",
   "execution_count": null,
   "metadata": {},
   "outputs": [],
   "source": [
    "p = pv.Plotter(notebook=True)\n",
    "\n",
    "base_lattice = frames[0]\n",
    "\n",
    "# Set the grid dimensions: shape + 1 because we want to inject our values on the CELL data\n",
    "grid = pv.UniformGrid()\n",
    "grid.dimensions = np.array(base_lattice.shape) + 1\n",
    "# The bottom left corner of the data set\n",
    "grid.origin = base_lattice.minbound - base_lattice.unit * 0.5\n",
    "# These are the cell sizes along each axis\n",
    "grid.spacing = base_lattice.unit \n",
    "\n",
    "# adding the boundingbox wireframe\n",
    "p.add_mesh(grid.outline(), color=\"grey\", label=\"Domain\")\n",
    "\n",
    "# adding the availability lattice\n",
    "init_avail_lattice.fast_vis(p)\n",
    "\n",
    "# adding axes\n",
    "p.add_axes()\n",
    "p.show_bounds(grid=\"back\", location=\"back\", color=\"#aaaaaa\")\n",
    "\n",
    "def create_mesh(value):\n",
    "    f = int(value)\n",
    "    lattice = frames[f]\n",
    "\n",
    "    # Add the data values to the cell data\n",
    "    grid.cell_arrays[\"Agents\"] = lattice.flatten(order=\"F\").astype(int)  # Flatten the array!\n",
    "    # filtering the voxels\n",
    "    threshed = grid.threshold([-0.1, agn_num - 0.9])\n",
    "    # adding the voxels\n",
    "    p.add_mesh(threshed, name='sphere', show_edges=True, opacity=1.0, show_scalar_bar=False)\n",
    "    return\n",
    "\n",
    "p.add_slider_widget(create_mesh, [0, n_frames], title='Time', value=0, event_type=\"always\", style=\"classic\")\n",
    "p.show(use_ipyvtk=True)"
   ]
  },
  {
   "cell_type": "markdown",
   "metadata": {},
   "source": [
    "### 2.3. Saving lattice frames in CSV"
   ]
  },
  {
   "cell_type": "code",
   "execution_count": null,
   "metadata": {},
   "outputs": [],
   "source": [
    "for i, lattice in enumerate(frames):\n",
    "    csv_path = os.path.relpath('../Data/dynamic output/abm_animation/abm_f_'+ f'{i:03}' + '.csv')\n",
    "    lattice.to_csv(csv_path)"
   ]
  },
  {
   "cell_type": "markdown",
   "metadata": {},
   "source": [
    "### Credits"
   ]
  },
  {
   "cell_type": "code",
   "execution_count": null,
   "metadata": {},
   "outputs": [],
   "source": [
    "__author__ = \"Shervin Azadi \"\n",
    "__license__ = \"MIT\"\n",
    "__version__ = \"1.0\"\n",
    "__url__ = \"https://github.com/shervinazadi/spatial_computing_workshops\"\n",
    "__summary__ = \"Spatial Computing Design Studio Workshop on Agent Based Models for Generative Spaces\""
   ]
  }
 ],
 "metadata": {
  "kernelspec": {
   "display_name": "Python 3.8.5 64-bit ('sc_workshops': conda)",
   "metadata": {
    "interpreter": {
     "hash": "787ea478c22349cf73d867deb0a19fc58e75e9742a9aed6f48d06cc412ad6e3b"
    }
   },
   "name": "python3"
  },
  "language_info": {
   "codemirror_mode": {
    "name": "ipython",
    "version": 3
   },
   "file_extension": ".py",
   "mimetype": "text/x-python",
   "name": "python",
   "nbconvert_exporter": "python",
   "pygments_lexer": "ipython3",
   "version": "3.8.8"
  }
 },
 "nbformat": 4,
 "nbformat_minor": 2
}
