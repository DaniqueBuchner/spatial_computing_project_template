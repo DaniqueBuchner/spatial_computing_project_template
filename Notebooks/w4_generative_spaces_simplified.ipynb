{
 "cells": [
  {
   "cell_type": "markdown",
   "metadata": {},
   "source": [
    "# Generative Spaces (ABM)\n",
    "\n",
    "In this workshop we will lwarn how to construct a ABM (Agent Based Model) with spatial behaviours, that is capable of configuring the space. This file is a simplified version of Generative Spatial Agent Based Models. For further information, you can find more advanced versions here:\n",
    "\n",
    "* [Object Oriented version](https://github.com/shervinazadi/spatial_computing_workshops/blob/master/notebooks/w3_generative_spaces.ipynb)\n",
    "* [Vectorized version](https://topogenesis.readthedocs.io/notebooks/random_walker)"
   ]
  },
  {
   "cell_type": "markdown",
   "metadata": {},
   "source": [
    "## 0. Initialization\n",
    "\n",
    "### 0.1. Load required libraries"
   ]
  },
  {
   "cell_type": "code",
   "execution_count": 1,
   "metadata": {},
   "outputs": [],
   "source": [
    "# !pip install ipyvtk_simple"
   ]
  },
  {
   "cell_type": "code",
   "execution_count": 2,
   "metadata": {},
   "outputs": [],
   "source": [
    "import os\n",
    "import topogenesis as tg\n",
    "import pyvista as pv\n",
    "import trimesh as tm\n",
    "import pandas as pd\n",
    "import numpy as np\n",
    "np.random.seed(0)"
   ]
  },
  {
   "cell_type": "markdown",
   "metadata": {},
   "source": [
    "### 0.2. Define the Neighborhood (Stencil)"
   ]
  },
  {
   "cell_type": "code",
   "execution_count": 3,
   "metadata": {},
   "outputs": [
    {
     "name": "stdout",
     "output_type": "stream",
     "text": [
      "[[[0 0 0]\n",
      "  [0 1 0]\n",
      "  [0 0 0]]\n",
      "\n",
      " [[0 1 0]\n",
      "  [1 0 1]\n",
      "  [0 1 0]]\n",
      "\n",
      " [[0 0 0]\n",
      "  [0 1 0]\n",
      "  [0 0 0]]]\n"
     ]
    }
   ],
   "source": [
    "# creating neighborhood definition\n",
    "stencil = tg.create_stencil(\"von_neumann\", 1, 1)\n",
    "# setting the center to zero\n",
    "stencil.set_index([0,0,0], 0)\n",
    "print(stencil)"
   ]
  },
  {
   "cell_type": "markdown",
   "metadata": {},
   "source": [
    "### 0.3 Visualize the Stencil"
   ]
  },
  {
   "cell_type": "code",
   "execution_count": 4,
   "metadata": {},
   "outputs": [
    {
     "data": {
      "text/plain": [
       "<vtkmodules.vtkRenderingOpenGL2.vtkOpenGLActor(0x0000016B6BE43510) at 0x0000016B73395400>"
      ]
     },
     "execution_count": 4,
     "metadata": {},
     "output_type": "execute_result"
    }
   ],
   "source": [
    "# initiating the plotter\n",
    "p = pv.Plotter(notebook=True)\n",
    "\n",
    "# Create the spatial reference\n",
    "grid = pv.UniformGrid()\n",
    "\n",
    "# Set the grid dimensions: shape because we want to inject our values\n",
    "grid.dimensions = np.array(stencil.shape) + 1\n",
    "# The bottom left corner of the data set\n",
    "grid.origin = [0,0,0]\n",
    "# These are the cell sizes along each axis\n",
    "grid.spacing = [1,1,1]\n",
    "\n",
    "# Add the data values to the cell data\n",
    "grid.cell_arrays[\"values\"] = stencil.flatten(order=\"F\")  # Flatten the stencil\n",
    "threshed = grid.threshold([0.9, 1.1])\n",
    "\n",
    "# adding the voxels: light red\n",
    "p.add_mesh(threshed, show_edges=True, color=\"#ff8fa3\", opacity=0.3)\n",
    "\n",
    "# plotting\n",
    "#p.show(use_ipyvtk=True)"
   ]
  },
  {
   "cell_type": "markdown",
   "metadata": {},
   "source": [
    "## 1. Setup the Environment\n",
    "\n",
    "### 1.1. Load the envelope lattice as the avialbility lattice"
   ]
  },
  {
   "cell_type": "code",
   "execution_count": 5,
   "metadata": {},
   "outputs": [],
   "source": [
    "# loading the lattice from csv\n",
    "lattice_path = os.path.relpath('../data/voxelized_envelope.csv')\n",
    "avail_lattice = tg.lattice_from_csv(lattice_path)\n",
    "init_avail_lattice = tg.to_lattice(np.copy(avail_lattice), avail_lattice)"
   ]
  },
  {
   "cell_type": "markdown",
   "metadata": {},
   "source": [
    "### 1.2 Load Program"
   ]
  },
  {
   "cell_type": "code",
   "execution_count": 6,
   "metadata": {},
   "outputs": [
    {
     "name": "stdout",
     "output_type": "stream",
     "text": [
      "    space_name  space_id  str_acc  sun_acc\n",
      "0        lobby         0      1.0      0.0\n",
      "1  roof_garden         1      0.0      1.0\n",
      "2     workshop         2      0.5      0.5\n",
      "                                        space_name  space_id  str_acc  sun_acc\n",
      "0                       Student_housing_(1_person)         0      0.4      0.8\n",
      "1                      Student_housing_(4_persons)         1      0.4      0.8\n",
      "2                       Assisted_living_(30_units)         2      0.4      0.8\n",
      "3                      Starter_housing_(100_units)         3      0.4      0.8\n",
      "4   Parking_spaces_(minimal_of_0.5_per_apartement)         4      1.0      0.2\n",
      "5                                  Bicycle_parking         5      1.0      0.2\n",
      "6                                       Vegetation         6      0.0      1.0\n",
      "7                                        Workshops         7      0.8      0.4\n",
      "8                                 Co-working_space         8      0.6      0.4\n",
      "9                                          Library         9      0.9      0.4\n",
      "10                                          Cinema        10      0.0      0.0\n",
      "11                                          Arcade        11      0.0      0.2\n",
      "12                                            Caf�        12      0.0      0.4\n",
      "13                           Co-cooking_restaurant        13      0.0      0.4\n",
      "14                                Community_centre        14      0.2      0.4\n",
      "15                                            Shop        15      0.8      0.4\n",
      "16                                             Gym        16      0.8      0.4\n",
      "17                                    Laundry_room        17      0.8      0.0\n",
      "18                                     Living_room        18      0.6      0.5\n",
      "19                                          Lounge        19      0.8      0.6\n"
     ]
    }
   ],
   "source": [
    "program_complete1 = pd.read_csv(\"../data/program_small.csv\")\n",
    "print(program_complete1)\n",
    "\n",
    "program_complete = pd.read_csv(\"../data/program_big.csv\")\n",
    "print(program_complete)\n"
   ]
  },
  {
   "cell_type": "code",
   "execution_count": 7,
   "metadata": {},
   "outputs": [
    {
     "data": {
      "text/html": [
       "<div>\n",
       "<style scoped>\n",
       "    .dataframe tbody tr th:only-of-type {\n",
       "        vertical-align: middle;\n",
       "    }\n",
       "\n",
       "    .dataframe tbody tr th {\n",
       "        vertical-align: top;\n",
       "    }\n",
       "\n",
       "    .dataframe thead th {\n",
       "        text-align: right;\n",
       "    }\n",
       "</style>\n",
       "<table border=\"1\" class=\"dataframe\">\n",
       "  <thead>\n",
       "    <tr style=\"text-align: right;\">\n",
       "      <th></th>\n",
       "      <th>str_acc</th>\n",
       "      <th>sun_acc</th>\n",
       "    </tr>\n",
       "  </thead>\n",
       "  <tbody>\n",
       "    <tr>\n",
       "      <th>0</th>\n",
       "      <td>0.4</td>\n",
       "      <td>0.8</td>\n",
       "    </tr>\n",
       "    <tr>\n",
       "      <th>1</th>\n",
       "      <td>0.4</td>\n",
       "      <td>0.8</td>\n",
       "    </tr>\n",
       "    <tr>\n",
       "      <th>2</th>\n",
       "      <td>0.4</td>\n",
       "      <td>0.8</td>\n",
       "    </tr>\n",
       "    <tr>\n",
       "      <th>3</th>\n",
       "      <td>0.4</td>\n",
       "      <td>0.8</td>\n",
       "    </tr>\n",
       "    <tr>\n",
       "      <th>4</th>\n",
       "      <td>1.0</td>\n",
       "      <td>0.2</td>\n",
       "    </tr>\n",
       "    <tr>\n",
       "      <th>5</th>\n",
       "      <td>1.0</td>\n",
       "      <td>0.2</td>\n",
       "    </tr>\n",
       "    <tr>\n",
       "      <th>6</th>\n",
       "      <td>0.0</td>\n",
       "      <td>1.0</td>\n",
       "    </tr>\n",
       "    <tr>\n",
       "      <th>7</th>\n",
       "      <td>0.8</td>\n",
       "      <td>0.4</td>\n",
       "    </tr>\n",
       "    <tr>\n",
       "      <th>8</th>\n",
       "      <td>0.6</td>\n",
       "      <td>0.4</td>\n",
       "    </tr>\n",
       "    <tr>\n",
       "      <th>9</th>\n",
       "      <td>0.9</td>\n",
       "      <td>0.4</td>\n",
       "    </tr>\n",
       "    <tr>\n",
       "      <th>10</th>\n",
       "      <td>0.0</td>\n",
       "      <td>0.0</td>\n",
       "    </tr>\n",
       "    <tr>\n",
       "      <th>11</th>\n",
       "      <td>0.0</td>\n",
       "      <td>0.2</td>\n",
       "    </tr>\n",
       "    <tr>\n",
       "      <th>12</th>\n",
       "      <td>0.0</td>\n",
       "      <td>0.4</td>\n",
       "    </tr>\n",
       "    <tr>\n",
       "      <th>13</th>\n",
       "      <td>0.0</td>\n",
       "      <td>0.4</td>\n",
       "    </tr>\n",
       "    <tr>\n",
       "      <th>14</th>\n",
       "      <td>0.2</td>\n",
       "      <td>0.4</td>\n",
       "    </tr>\n",
       "    <tr>\n",
       "      <th>15</th>\n",
       "      <td>0.8</td>\n",
       "      <td>0.4</td>\n",
       "    </tr>\n",
       "    <tr>\n",
       "      <th>16</th>\n",
       "      <td>0.8</td>\n",
       "      <td>0.4</td>\n",
       "    </tr>\n",
       "    <tr>\n",
       "      <th>17</th>\n",
       "      <td>0.8</td>\n",
       "      <td>0.0</td>\n",
       "    </tr>\n",
       "    <tr>\n",
       "      <th>18</th>\n",
       "      <td>0.6</td>\n",
       "      <td>0.5</td>\n",
       "    </tr>\n",
       "    <tr>\n",
       "      <th>19</th>\n",
       "      <td>0.8</td>\n",
       "      <td>0.6</td>\n",
       "    </tr>\n",
       "  </tbody>\n",
       "</table>\n",
       "</div>"
      ],
      "text/plain": [
       "    str_acc  sun_acc\n",
       "0       0.4      0.8\n",
       "1       0.4      0.8\n",
       "2       0.4      0.8\n",
       "3       0.4      0.8\n",
       "4       1.0      0.2\n",
       "5       1.0      0.2\n",
       "6       0.0      1.0\n",
       "7       0.8      0.4\n",
       "8       0.6      0.4\n",
       "9       0.9      0.4\n",
       "10      0.0      0.0\n",
       "11      0.0      0.2\n",
       "12      0.0      0.4\n",
       "13      0.0      0.4\n",
       "14      0.2      0.4\n",
       "15      0.8      0.4\n",
       "16      0.8      0.4\n",
       "17      0.8      0.0\n",
       "18      0.6      0.5\n",
       "19      0.8      0.6"
      ]
     },
     "execution_count": 7,
     "metadata": {},
     "output_type": "execute_result"
    }
   ],
   "source": [
    "program_prefs = program_complete.drop([\"space_name\",\"space_id\"], 1)\n",
    "program_prefs"
   ]
  },
  {
   "cell_type": "markdown",
   "metadata": {},
   "source": [
    "### 1.2 Load the value fields"
   ]
  },
  {
   "cell_type": "code",
   "execution_count": 8,
   "metadata": {},
   "outputs": [
    {
     "data": {
      "text/plain": [
       "lattice([[[1.  , 1.  , 1.  , 1.  , 1.  ],\n",
       "          [1.  , 1.  , 1.  , 1.  , 1.  ],\n",
       "          [1.  , 1.  , 1.  , 1.  , 1.  ],\n",
       "          [1.  , 1.  , 1.  , 1.  , 1.  ],\n",
       "          [1.  , 1.  , 1.  , 1.  , 1.  ],\n",
       "          [1.  , 1.  , 1.  , 1.  , 1.  ],\n",
       "          [1.  , 1.  , 1.  , 1.  , 1.  ],\n",
       "          [1.  , 1.  , 1.  , 1.  , 1.  ],\n",
       "          [1.  , 1.  , 1.  , 1.  , 1.  ]],\n",
       "\n",
       "         [[1.  , 1.  , 1.  , 1.  , 1.  ],\n",
       "          [1.  , 0.3 , 0.25, 0.2 , 1.  ],\n",
       "          [1.  , 0.3 , 0.25, 0.2 , 1.  ],\n",
       "          [1.  , 0.3 , 0.25, 0.2 , 1.  ],\n",
       "          [1.  , 0.3 , 0.25, 0.2 , 1.  ],\n",
       "          [1.  , 0.25, 0.2 , 0.15, 1.  ],\n",
       "          [1.  , 0.2 , 0.15, 0.1 , 1.  ],\n",
       "          [1.  , 0.15, 0.1 , 0.05, 1.  ],\n",
       "          [1.  , 0.1 , 0.05, 0.  , 1.  ]],\n",
       "\n",
       "         [[1.  , 1.  , 1.  , 1.  , 1.  ],\n",
       "          [1.  , 0.35, 0.3 , 0.25, 1.  ],\n",
       "          [1.  , 0.35, 0.3 , 0.25, 1.  ],\n",
       "          [1.  , 0.35, 0.3 , 0.25, 1.  ],\n",
       "          [1.  , 0.35, 0.3 , 0.25, 1.  ],\n",
       "          [1.  , 0.3 , 0.25, 0.2 , 1.  ],\n",
       "          [1.  , 0.25, 0.2 , 0.15, 1.  ],\n",
       "          [1.  , 0.2 , 0.15, 0.1 , 1.  ],\n",
       "          [1.  , 0.15, 0.1 , 0.05, 1.  ]],\n",
       "\n",
       "         [[1.  , 1.  , 1.  , 1.  , 1.  ],\n",
       "          [1.  , 0.4 , 0.35, 0.3 , 1.  ],\n",
       "          [1.  , 0.4 , 0.35, 0.3 , 1.  ],\n",
       "          [1.  , 0.4 , 0.35, 0.3 , 1.  ],\n",
       "          [1.  , 0.4 , 0.35, 0.3 , 1.  ],\n",
       "          [1.  , 0.35, 0.3 , 0.25, 1.  ],\n",
       "          [1.  , 0.3 , 0.25, 0.2 , 1.  ],\n",
       "          [1.  , 0.25, 0.2 , 0.15, 1.  ],\n",
       "          [1.  , 0.2 , 0.15, 0.1 , 1.  ]],\n",
       "\n",
       "         [[1.  , 1.  , 1.  , 1.  , 1.  ],\n",
       "          [1.  , 0.45, 0.4 , 0.35, 1.  ],\n",
       "          [1.  , 0.45, 0.4 , 0.35, 1.  ],\n",
       "          [1.  , 0.45, 0.4 , 0.35, 1.  ],\n",
       "          [1.  , 0.45, 0.4 , 0.35, 1.  ],\n",
       "          [1.  , 0.4 , 0.35, 0.3 , 1.  ],\n",
       "          [1.  , 0.35, 0.3 , 0.25, 1.  ],\n",
       "          [1.  , 0.3 , 0.25, 0.2 , 1.  ],\n",
       "          [1.  , 0.25, 0.2 , 0.15, 1.  ]],\n",
       "\n",
       "         [[1.  , 1.  , 1.  , 1.  , 1.  ],\n",
       "          [1.  , 0.5 , 0.45, 0.4 , 1.  ],\n",
       "          [1.  , 0.5 , 0.45, 0.4 , 1.  ],\n",
       "          [1.  , 0.5 , 0.45, 0.4 , 1.  ],\n",
       "          [1.  , 0.5 , 0.45, 0.4 , 1.  ],\n",
       "          [1.  , 1.  , 1.  , 1.  , 1.  ],\n",
       "          [1.  , 1.  , 1.  , 1.  , 1.  ],\n",
       "          [1.  , 1.  , 1.  , 1.  , 1.  ],\n",
       "          [1.  , 1.  , 1.  , 1.  , 1.  ]],\n",
       "\n",
       "         [[1.  , 1.  , 1.  , 1.  , 1.  ],\n",
       "          [1.  , 0.55, 0.5 , 0.45, 1.  ],\n",
       "          [1.  , 0.55, 0.5 , 0.45, 1.  ],\n",
       "          [1.  , 0.55, 0.5 , 0.45, 1.  ],\n",
       "          [1.  , 0.55, 0.5 , 0.45, 1.  ],\n",
       "          [1.  , 1.  , 1.  , 1.  , 1.  ],\n",
       "          [1.  , 1.  , 1.  , 1.  , 1.  ],\n",
       "          [1.  , 1.  , 1.  , 1.  , 1.  ],\n",
       "          [1.  , 1.  , 1.  , 1.  , 1.  ]],\n",
       "\n",
       "         [[1.  , 1.  , 1.  , 1.  , 1.  ],\n",
       "          [1.  , 0.6 , 0.55, 0.5 , 1.  ],\n",
       "          [1.  , 0.6 , 0.55, 0.5 , 1.  ],\n",
       "          [1.  , 0.6 , 0.55, 0.5 , 1.  ],\n",
       "          [1.  , 0.6 , 0.55, 0.5 , 1.  ],\n",
       "          [1.  , 1.  , 1.  , 1.  , 1.  ],\n",
       "          [1.  , 1.  , 1.  , 1.  , 1.  ],\n",
       "          [1.  , 1.  , 1.  , 1.  , 1.  ],\n",
       "          [1.  , 1.  , 1.  , 1.  , 1.  ]],\n",
       "\n",
       "         [[1.  , 1.  , 1.  , 1.  , 1.  ],\n",
       "          [1.  , 0.65, 0.6 , 0.55, 1.  ],\n",
       "          [1.  , 0.65, 0.6 , 0.55, 1.  ],\n",
       "          [1.  , 0.65, 0.6 , 0.55, 1.  ],\n",
       "          [1.  , 0.65, 0.6 , 0.55, 1.  ],\n",
       "          [1.  , 1.  , 1.  , 1.  , 1.  ],\n",
       "          [1.  , 1.  , 1.  , 1.  , 1.  ],\n",
       "          [1.  , 1.  , 1.  , 1.  , 1.  ],\n",
       "          [1.  , 1.  , 1.  , 1.  , 1.  ]],\n",
       "\n",
       "         [[1.  , 1.  , 1.  , 1.  , 1.  ],\n",
       "          [1.  , 0.7 , 0.65, 0.6 , 1.  ],\n",
       "          [1.  , 0.7 , 0.65, 0.6 , 1.  ],\n",
       "          [1.  , 0.7 , 0.65, 0.6 , 1.  ],\n",
       "          [1.  , 0.7 , 0.65, 0.6 , 1.  ],\n",
       "          [1.  , 1.  , 1.  , 1.  , 1.  ],\n",
       "          [1.  , 1.  , 1.  , 1.  , 1.  ],\n",
       "          [1.  , 1.  , 1.  , 1.  , 1.  ],\n",
       "          [1.  , 1.  , 1.  , 1.  , 1.  ]],\n",
       "\n",
       "         [[1.  , 1.  , 1.  , 1.  , 1.  ],\n",
       "          [1.  , 0.75, 0.7 , 0.65, 1.  ],\n",
       "          [1.  , 0.75, 0.7 , 0.65, 1.  ],\n",
       "          [1.  , 0.75, 0.7 , 0.65, 1.  ],\n",
       "          [1.  , 0.75, 0.7 , 0.65, 1.  ],\n",
       "          [1.  , 0.75, 0.7 , 0.65, 1.  ],\n",
       "          [1.  , 0.75, 0.7 , 0.65, 1.  ],\n",
       "          [1.  , 0.75, 0.7 , 0.65, 1.  ],\n",
       "          [1.  , 0.75, 0.7 , 0.65, 1.  ]],\n",
       "\n",
       "         [[1.  , 1.  , 1.  , 1.  , 1.  ],\n",
       "          [1.  , 0.8 , 0.75, 0.7 , 1.  ],\n",
       "          [1.  , 0.8 , 0.75, 0.7 , 1.  ],\n",
       "          [1.  , 0.8 , 0.75, 0.7 , 1.  ],\n",
       "          [1.  , 0.8 , 0.75, 0.7 , 1.  ],\n",
       "          [1.  , 0.8 , 0.75, 0.7 , 1.  ],\n",
       "          [1.  , 0.8 , 0.75, 0.7 , 1.  ],\n",
       "          [1.  , 0.8 , 0.75, 0.7 , 1.  ],\n",
       "          [1.  , 0.8 , 0.75, 0.7 , 1.  ]],\n",
       "\n",
       "         [[1.  , 1.  , 1.  , 1.  , 1.  ],\n",
       "          [1.  , 0.85, 0.8 , 0.75, 1.  ],\n",
       "          [1.  , 0.85, 0.8 , 0.75, 1.  ],\n",
       "          [1.  , 0.85, 0.8 , 0.75, 1.  ],\n",
       "          [1.  , 0.85, 0.8 , 0.75, 1.  ],\n",
       "          [1.  , 0.85, 0.8 , 0.75, 1.  ],\n",
       "          [1.  , 0.85, 0.8 , 0.75, 1.  ],\n",
       "          [1.  , 0.85, 0.8 , 0.75, 1.  ],\n",
       "          [1.  , 0.85, 0.8 , 0.75, 1.  ]],\n",
       "\n",
       "         [[1.  , 1.  , 1.  , 1.  , 1.  ],\n",
       "          [1.  , 0.9 , 0.85, 0.8 , 1.  ],\n",
       "          [1.  , 0.9 , 0.85, 0.8 , 1.  ],\n",
       "          [1.  , 0.9 , 0.85, 0.8 , 1.  ],\n",
       "          [1.  , 0.9 , 0.85, 0.8 , 1.  ],\n",
       "          [1.  , 0.9 , 0.85, 0.8 , 1.  ],\n",
       "          [1.  , 0.9 , 0.85, 0.8 , 1.  ],\n",
       "          [1.  , 0.9 , 0.85, 0.8 , 1.  ],\n",
       "          [1.  , 0.9 , 0.85, 0.8 , 1.  ]],\n",
       "\n",
       "         [[1.  , 1.  , 1.  , 1.  , 1.  ],\n",
       "          [1.  , 0.95, 0.9 , 0.85, 1.  ],\n",
       "          [1.  , 0.95, 0.9 , 0.85, 1.  ],\n",
       "          [1.  , 0.95, 0.9 , 0.85, 1.  ],\n",
       "          [1.  , 0.95, 0.9 , 0.85, 1.  ],\n",
       "          [1.  , 0.95, 0.9 , 0.85, 1.  ],\n",
       "          [1.  , 0.95, 0.9 , 0.85, 1.  ],\n",
       "          [1.  , 0.95, 0.9 , 0.85, 1.  ],\n",
       "          [1.  , 0.95, 0.9 , 0.85, 1.  ]],\n",
       "\n",
       "         [[1.  , 1.  , 1.  , 1.  , 1.  ],\n",
       "          [1.  , 1.  , 0.95, 0.9 , 1.  ],\n",
       "          [1.  , 1.  , 0.95, 0.9 , 1.  ],\n",
       "          [1.  , 1.  , 0.95, 0.9 , 1.  ],\n",
       "          [1.  , 1.  , 0.95, 0.9 , 1.  ],\n",
       "          [1.  , 1.  , 0.95, 0.9 , 1.  ],\n",
       "          [1.  , 1.  , 0.95, 0.9 , 1.  ],\n",
       "          [1.  , 1.  , 0.95, 0.9 , 1.  ],\n",
       "          [1.  , 1.  , 0.95, 0.9 , 1.  ]]])"
      ]
     },
     "execution_count": 8,
     "metadata": {},
     "output_type": "execute_result"
    }
   ],
   "source": [
    "# loading the lattice from csv\n",
    "fields = {}\n",
    "for f in program_prefs.columns:\n",
    "    lattice_path = os.path.relpath('../data/' + f + '.csv')\n",
    "    fields[f] = tg.lattice_from_csv(lattice_path)\n",
    "fields[\"str_acc\"]"
   ]
  },
  {
   "cell_type": "markdown",
   "metadata": {},
   "source": [
    "### 1.3. Initialize the Agents"
   ]
  },
  {
   "cell_type": "code",
   "execution_count": 9,
   "metadata": {},
   "outputs": [
    {
     "name": "stdout",
     "output_type": "stream",
     "text": [
      "[[10  6  2]\n",
      " [ 2  8  3]\n",
      " [ 6  4  1]\n",
      " [11  5  1]\n",
      " [13  8  3]\n",
      " [11  6  1]\n",
      " [ 1  4  1]\n",
      " [12  3  2]\n",
      " [15  1  2]\n",
      " [13  5  3]\n",
      " [15  6  2]\n",
      " [ 4  6  1]\n",
      " [ 3  8  2]\n",
      " [ 4  6  2]\n",
      " [11  5  2]\n",
      " [ 2  6  1]\n",
      " [ 4  6  1]\n",
      " [10  7  1]\n",
      " [ 4  6  2]\n",
      " [10  4  1]]\n"
     ]
    }
   ],
   "source": [
    "# initialize the occupation lattice\n",
    "occ_lattice = avail_lattice * 0 - 1\n",
    "\n",
    "# Finding the index of the available voxels in avail_lattice\n",
    "avail_flat = avail_lattice.flatten()\n",
    "avail_index = np.array(np.where(avail_lattice == 1)).T\n",
    "\n",
    "# Randomly choosing three available voxels\n",
    "agn_num = len(program_complete)\n",
    "select_id = np.random.choice(len(avail_index), agn_num)\n",
    "agn_origins = avail_index[select_id]\n",
    "print(agn_origins)\n",
    "# adding the origins to the agents locations\n",
    "agn_locs = []\n",
    "# for each agent origin ... \n",
    "for a_id, a_origin in enumerate(agn_origins):\n",
    "    \n",
    "    # add the origin to the list of agent locations\n",
    "    agn_locs.append([a_origin])\n",
    "\n",
    "    # set the origin in availablity lattice as 0 (UNavailable)\n",
    "    avail_lattice[tuple(a_origin)] = 0\n",
    "    \n",
    "    # set the origin in occupation lattice as the agent id (a_id)\n",
    "    occ_lattice[tuple(a_origin)] = a_id\n",
    "\n"
   ]
  },
  {
   "cell_type": "markdown",
   "metadata": {},
   "source": [
    "### 1.4. Visualize the environment"
   ]
  },
  {
   "cell_type": "code",
   "execution_count": 14,
   "metadata": {},
   "outputs": [
    {
     "data": {
      "text/plain": [
       "<pyvista.plotting.plotting.Plotter at 0x16b0870af40>"
      ]
     },
     "execution_count": 14,
     "metadata": {},
     "output_type": "execute_result"
    }
   ],
   "source": [
    "p = pv.Plotter(notebook=True)\n",
    "\n",
    "# Set the grid dimensions: shape + 1 because we want to inject our values on the CELL data\n",
    "grid = pv.UniformGrid()\n",
    "grid.dimensions = np.array(occ_lattice.shape) + 1\n",
    "\n",
    "# The bottom left corner of the data set\n",
    "grid.origin = occ_lattice.minbound - occ_lattice.unit * 0.5\n",
    "\n",
    "# These are the cell sizes along each axis\n",
    "grid.spacing = occ_lattice.unit \n",
    "\n",
    "# adding the boundingbox wireframe\n",
    "p.add_mesh(grid.outline(), color=\"grey\", label=\"Domain\")\n",
    "\n",
    "# adding axes\n",
    "p.add_axes()\n",
    "p.show_bounds(grid=\"back\", location=\"back\", color=\"#777777\")\n",
    "\n",
    "# Add the data values to the cell data\n",
    "grid.cell_arrays[\"Agents\"] = occ_lattice.flatten(order=\"F\").astype(int)  # Flatten the array!\n",
    "# filtering the voxels\n",
    "threshed = grid.threshold([-0.1, agn_num - 0.9])\n",
    "# adding the voxels\n",
    "p.add_mesh(threshed, show_edges=True, opacity=1.0, show_scalar_bar=False)\n",
    "\n",
    "# adding the availability lattice\n",
    "init_avail_lattice.fast_vis(p)\n",
    "\n",
    "#p.show(use_ipyvtk=True)"
   ]
  },
  {
   "cell_type": "markdown",
   "metadata": {},
   "source": [
    "## 2. ABM Simulation (Agent Based Space Occupation)\n",
    "\n",
    "### 2.1. Running the simulation"
   ]
  },
  {
   "cell_type": "code",
   "execution_count": 15,
   "metadata": {},
   "outputs": [],
   "source": [
    "# make a deep copy of occupation lattice\n",
    "cur_occ_lattice = tg.to_lattice(np.copy(occ_lattice), occ_lattice)\n",
    "# initialzing the list of frames\n",
    "frames = [cur_occ_lattice]\n",
    "\n",
    "# setting the time variable to 0\n",
    "t = 0\n",
    "n_frames = 30\n",
    "# main feedback loop of the simulation (for each time step ...)\n",
    "while t<n_frames:\n",
    "    # for each agent ... \n",
    "    for a_id, a_prefs in program_complete.iterrows():\n",
    "        # retrieve the list of the locations of the current agent\n",
    "        a_locs = agn_locs[a_id]\n",
    "        # initialize the list of free neighbours\n",
    "        free_neighs = []\n",
    "        # for each location of the agent\n",
    "        for loc in a_locs:\n",
    "            # retrieve the list of neighbours of the agent based on the stencil\n",
    "            neighs = avail_lattice.find_neighbours_masked(stencil, loc = loc)\n",
    "            \n",
    "            # for each neighbour ... \n",
    "            for n in neighs:\n",
    "                # compute 3D index of neighbour\n",
    "                neigh_3d_id = np.unravel_index(n, avail_lattice.shape)\n",
    "                # if the neighbour is available... \n",
    "                if avail_lattice[neigh_3d_id]:\n",
    "                    # add the neighbour to the list of free neighbours\n",
    "                    free_neighs.append(neigh_3d_id)\n",
    "        # check if found any free neighbour\n",
    "        if len(free_neighs)>0:\n",
    "            # convert free neighbours to a numpy array\n",
    "            fns = np.array(free_neighs)\n",
    "\n",
    "            # find the value of neighbours\n",
    "            # init the agent value array\n",
    "            a_eval = np.ones(len(fns))\n",
    "            # for each field...\n",
    "            for f in program_prefs.columns:\n",
    "                # find the raw value of free neighbours...\n",
    "                vals = fields[f][fns[:,0], fns[:,1], fns[:,2]]\n",
    "                # raise the the raw value to the power of preference weight of the agent\n",
    "                a_weighted_vals = vals ** a_prefs[f]\n",
    "                # multiply them to the previous weighted values\n",
    "                a_eval *= a_weighted_vals\n",
    "\n",
    "            # select the neighbour with highest evaluation\n",
    "            selected_int = np.argmax(a_eval)\n",
    "            # find 3D integer index of selected neighbour\n",
    "            selected_neigh_3d_id = free_neighs[selected_int]\n",
    "            # find the location of the newly selected neighbour\n",
    "            selected_neigh_loc = np.array(selected_neigh_3d_id).flatten()\n",
    "            # add the newly selected neighbour location to agent locations\n",
    "            agn_locs[a_id].append(selected_neigh_loc)\n",
    "            # set the newly selected neighbour as UNavailable (0) in the availability lattice\n",
    "            avail_lattice[selected_neigh_3d_id] = 0\n",
    "            # set the newly selected neighbour as OCCUPIED by current agent \n",
    "            # (-1 means not-occupied so a_id)\n",
    "            occ_lattice[selected_neigh_3d_id] = a_id\n",
    "\n",
    "    # constructing the new lattice\n",
    "    new_occ_lattice = tg.to_lattice(np.copy(occ_lattice), occ_lattice)\n",
    "    # adding the new lattice to the list of frames\n",
    "    frames.append(new_occ_lattice)\n",
    "    # adding one to the time counter\n",
    "    t += 1"
   ]
  },
  {
   "cell_type": "markdown",
   "metadata": {},
   "source": [
    "### 2.2. Visualizing the simulation"
   ]
  },
  {
   "cell_type": "code",
   "execution_count": 16,
   "metadata": {},
   "outputs": [
    {
     "data": {
      "application/vnd.jupyter.widget-view+json": {
       "model_id": "f4764d11394a41c2a26cf21d5bc43a00",
       "version_major": 2,
       "version_minor": 0
      },
      "text/plain": [
       "ViewInteractiveWidget(height=768, layout=Layout(height='auto', width='100%'), width=1024)"
      ]
     },
     "metadata": {},
     "output_type": "display_data"
    },
    {
     "data": {
      "text/plain": [
       "[(247.21077512227743, 152.21077512227743, 232.21077512227743),\n",
       " (35.0, -60.0, 20.0),\n",
       " (0.0, 0.0, 1.0)]"
      ]
     },
     "execution_count": 16,
     "metadata": {},
     "output_type": "execute_result"
    }
   ],
   "source": [
    "p = pv.Plotter(notebook=True)\n",
    "\n",
    "base_lattice = frames[0]\n",
    "\n",
    "# Set the grid dimensions: shape + 1 because we want to inject our values on the CELL data\n",
    "grid = pv.UniformGrid()\n",
    "grid.dimensions = np.array(base_lattice.shape) + 1\n",
    "# The bottom left corner of the data set\n",
    "grid.origin = base_lattice.minbound - base_lattice.unit * 0.5\n",
    "# These are the cell sizes along each axis\n",
    "grid.spacing = base_lattice.unit \n",
    "\n",
    "# adding the boundingbox wireframe\n",
    "p.add_mesh(grid.outline(), color=\"grey\", label=\"Domain\")\n",
    "\n",
    "# adding the availability lattice\n",
    "init_avail_lattice.fast_vis(p)\n",
    "\n",
    "# adding axes\n",
    "p.add_axes()\n",
    "p.show_bounds(grid=\"back\", location=\"back\", color=\"#aaaaaa\")\n",
    "\n",
    "def create_mesh(value):\n",
    "    f = int(value)\n",
    "    lattice = frames[f]\n",
    "\n",
    "    # Add the data values to the cell data\n",
    "    grid.cell_arrays[\"Agents\"] = lattice.flatten(order=\"F\").astype(int)  # Flatten the array!\n",
    "    # filtering the voxels\n",
    "    threshed = grid.threshold([-0.1, agn_num - 0.9])\n",
    "    # adding the voxels\n",
    "    p.add_mesh(threshed, name='sphere', show_edges=True, opacity=1.0, show_scalar_bar=False)\n",
    "\n",
    "    return\n",
    "\n",
    "p.add_slider_widget(create_mesh, [0, n_frames], title='Time', value=0, event_type=\"always\", style=\"classic\")\n",
    "p.show(use_ipyvtk=True)"
   ]
  },
  {
   "cell_type": "markdown",
   "metadata": {},
   "source": [
    "### 2.3. Saving lattice frames in CSV"
   ]
  },
  {
   "cell_type": "code",
   "execution_count": 13,
   "metadata": {},
   "outputs": [
    {
     "ename": "FileNotFoundError",
     "evalue": "[Errno 2] No such file or directory: '..\\\\data\\\\abm_animation\\\\abm_f_000.csv'",
     "output_type": "error",
     "traceback": [
      "\u001b[1;31m---------------------------------------------------------------------------\u001b[0m",
      "\u001b[1;31mFileNotFoundError\u001b[0m                         Traceback (most recent call last)",
      "\u001b[1;32m<ipython-input-13-03da34b6bd29>\u001b[0m in \u001b[0;36m<module>\u001b[1;34m\u001b[0m\n\u001b[0;32m      1\u001b[0m \u001b[1;32mfor\u001b[0m \u001b[0mi\u001b[0m\u001b[1;33m,\u001b[0m \u001b[0mlattice\u001b[0m \u001b[1;32min\u001b[0m \u001b[0menumerate\u001b[0m\u001b[1;33m(\u001b[0m\u001b[0mframes\u001b[0m\u001b[1;33m)\u001b[0m\u001b[1;33m:\u001b[0m\u001b[1;33m\u001b[0m\u001b[1;33m\u001b[0m\u001b[0m\n\u001b[0;32m      2\u001b[0m     \u001b[0mcsv_path\u001b[0m \u001b[1;33m=\u001b[0m \u001b[0mos\u001b[0m\u001b[1;33m.\u001b[0m\u001b[0mpath\u001b[0m\u001b[1;33m.\u001b[0m\u001b[0mrelpath\u001b[0m\u001b[1;33m(\u001b[0m\u001b[1;34m'../data/abm_animation/abm_f_'\u001b[0m\u001b[1;33m+\u001b[0m \u001b[1;34mf'{i:03}'\u001b[0m \u001b[1;33m+\u001b[0m \u001b[1;34m'.csv'\u001b[0m\u001b[1;33m)\u001b[0m\u001b[1;33m\u001b[0m\u001b[1;33m\u001b[0m\u001b[0m\n\u001b[1;32m----> 3\u001b[1;33m     \u001b[0mlattice\u001b[0m\u001b[1;33m.\u001b[0m\u001b[0mto_csv\u001b[0m\u001b[1;33m(\u001b[0m\u001b[0mcsv_path\u001b[0m\u001b[1;33m)\u001b[0m\u001b[1;33m\u001b[0m\u001b[1;33m\u001b[0m\u001b[0m\n\u001b[0m",
      "\u001b[1;32mc:\\users\\ppant\\documents\\tu delft\\minor\\q2\\python\\w0_intro\\w0_intro\\topogenesis\\topogenesis\\datastructures\\datastructures.py\u001b[0m in \u001b[0;36mto_csv\u001b[1;34m(self, filepath)\u001b[0m\n\u001b[0;32m    379\u001b[0m         })\n\u001b[0;32m    380\u001b[0m \u001b[1;33m\u001b[0m\u001b[0m\n\u001b[1;32m--> 381\u001b[1;33m         \u001b[1;32mwith\u001b[0m \u001b[0mopen\u001b[0m\u001b[1;33m(\u001b[0m\u001b[0mfilepath\u001b[0m\u001b[1;33m,\u001b[0m \u001b[1;34m'w'\u001b[0m\u001b[1;33m)\u001b[0m \u001b[1;32mas\u001b[0m \u001b[0mdf_out\u001b[0m\u001b[1;33m:\u001b[0m\u001b[1;33m\u001b[0m\u001b[1;33m\u001b[0m\u001b[0m\n\u001b[0m\u001b[0;32m    382\u001b[0m \u001b[1;33m\u001b[0m\u001b[0m\n\u001b[0;32m    383\u001b[0m             metadata.to_csv(df_out, index=False,\n",
      "\u001b[1;31mFileNotFoundError\u001b[0m: [Errno 2] No such file or directory: '..\\\\data\\\\abm_animation\\\\abm_f_000.csv'"
     ]
    }
   ],
   "source": [
    "for i, lattice in enumerate(frames):\n",
    "    csv_path = os.path.relpath('../data/abm_animation/abm_f_'+ f'{i:03}' + '.csv')\n",
    "    lattice.to_csv(csv_path)"
   ]
  },
  {
   "cell_type": "markdown",
   "metadata": {},
   "source": [
    "### Credits"
   ]
  },
  {
   "cell_type": "code",
   "execution_count": null,
   "metadata": {},
   "outputs": [],
   "source": [
    "__author__ = \"Shervin Azadi \"\n",
    "__license__ = \"MIT\"\n",
    "__version__ = \"1.0\"\n",
    "__url__ = \"https://github.com/shervinazadi/spatial_computing_workshops\"\n",
    "__summary__ = \"Spatial Computing Design Studio Workshop on Agent Based Models for Generative Spaces\""
   ]
  }
 ],
 "metadata": {
  "kernelspec": {
   "display_name": "Python 3.8.5 64-bit ('sc_workshops': conda)",
   "metadata": {
    "interpreter": {
     "hash": "787ea478c22349cf73d867deb0a19fc58e75e9742a9aed6f48d06cc412ad6e3b"
    }
   },
   "name": "python3"
  },
  "language_info": {
   "codemirror_mode": {
    "name": "ipython",
    "version": 3
   },
   "file_extension": ".py",
   "mimetype": "text/x-python",
   "name": "python",
   "nbconvert_exporter": "python",
   "pygments_lexer": "ipython3",
   "version": "3.8.8"
  }
 },
 "nbformat": 4,
 "nbformat_minor": 2
}
