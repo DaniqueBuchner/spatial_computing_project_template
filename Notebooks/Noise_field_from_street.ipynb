{
 "cells": [
  {
   "cell_type": "markdown",
   "metadata": {},
   "source": [
    "# Noise field from street\n",
    "(description)\n",
    "\n"
   ]
  },
  {
   "cell_type": "markdown",
   "metadata": {},
   "source": [
    "### 0. Initialization\n",
    "#### 0.1 Load required libraries"
   ]
  },
  {
   "cell_type": "code",
   "execution_count": 18,
   "metadata": {},
   "outputs": [],
   "source": [
    "import os\n",
    "import topogenesis as tg\n",
    "import pyvista as pv\n",
    "import trimesh as tm\n",
    "import numpy as np\n",
    "import scipy as sp\n",
    "\n",
    "def tri_to_pv(tri_mesh):\n",
    "    faces = np.pad(tri_mesh.faces, ((0, 0),(1,0)), 'constant', constant_values=3)\n",
    "    pv_mesh = pv.PolyData(tri_mesh.vertices, faces)\n",
    "    return pv_mesh\n"
   ]
  },
  {
   "cell_type": "markdown",
   "metadata": {},
   "source": [
    "#### 0.2 Load the envelope as availability lattice"
   ]
  },
  {
   "cell_type": "code",
   "execution_count": 19,
   "metadata": {},
   "outputs": [],
   "source": [
    "# loading the lattice from csv\n",
    "lattice_path = os.path.relpath('../Data/dynamic output/voxelized_envelope.csv')\n",
    "context_path = os.path.relpath('../data/raw data/immediate_context.obj')\n",
    "avail_lattice = tg.lattice_from_csv(lattice_path)\n",
    "init_avail_lattice = tg.to_lattice(np.copy(avail_lattice), avail_lattice)\n",
    "context_mesh = tm.load(context_path)"
   ]
  },
  {
   "cell_type": "markdown",
   "metadata": {},
   "source": [
    "#### 0.3 Load noise sources"
   ]
  },
  {
   "cell_type": "code",
   "execution_count": 20,
   "metadata": {},
   "outputs": [],
   "source": [
    "# loading program from CSV\n",
    "noise_source_path = os.path.relpath('../Data/raw data/Boekhorststraat_60dB.csv')\n",
    "noise_sources = np.genfromtxt(noise_source_path, delimiter=',')\n",
    "\n",
    "noise_sources[:,[1, 2]] = noise_sources[:,[2, 1]]\n",
    "noise_sources[:, 1]  = noise_sources[:, 1]  * -1\n",
    "\n",
    "noise_source_path1 = os.path.relpath('../Data/raw data/VanBokelweg_70dB.csv')\n",
    "noise_sources1= np.genfromtxt(noise_source_path1, delimiter=',')\n",
    "\n",
    "noise_sources1[:,[1, 2]] = noise_sources1[:,[2, 1]]\n",
    "noise_sources1[:, 1]  = noise_sources1[:, 1]  * -1\n",
    "\n",
    "noise_source_path2 = os.path.relpath('../Data/raw data/Schoterbosstraat_50dB.csv')\n",
    "noise_sources2 = np.genfromtxt(noise_source_path2, delimiter=',')\n",
    "\n",
    "noise_sources2[:,[1, 2]] = noise_sources2[:,[2, 1]]\n",
    "noise_sources2[:, 1]  = noise_sources2[:, 1]  * -1"
   ]
  },
  {
   "cell_type": "markdown",
   "metadata": {},
   "source": [
    "#### 0.4. Visualize noise source points"
   ]
  },
  {
   "cell_type": "code",
   "execution_count": 21,
   "metadata": {},
   "outputs": [
    {
     "data": {
      "text/plain": [
       "<vtkmodules.vtkRenderingOpenGL2.vtkOpenGLActor(0x00000234C2D986A0) at 0x00000234C618B400>"
      ]
     },
     "execution_count": 21,
     "metadata": {},
     "output_type": "execute_result"
    }
   ],
   "source": [
    "p = pv.Plotter(notebook=True)\n",
    "\n",
    "\n",
    "# adding the avilability lattice\n",
    "init_avail_lattice.fast_vis(p)\n",
    "\n",
    "# adding axes\n",
    "p.add_axes()\n",
    "\n",
    "p.add_mesh(noise_sources, point_size=10)\n",
    "p.add_mesh(noise_sources1, point_size=10)\n",
    "p.add_mesh(noise_sources2, point_size=10)\n",
    "p.add_mesh(tri_to_pv(context_mesh), color='#aaaaaa')\n",
    "\n",
    "#p.show(use_ipyvtk=True)"
   ]
  },
  {
   "cell_type": "markdown",
   "metadata": {},
   "source": [
    "## 1. Creation noise field\n",
    "#### 1.1 computing noise lattices"
   ]
  },
  {
   "cell_type": "code",
   "execution_count": 22,
   "metadata": {},
   "outputs": [],
   "source": [
    "# create full lattice\n",
    "full_lattice = avail_lattice * 0 + 1\n",
    "\n",
    "# extract the coordinates of the centroid of all voxel\n",
    "vox_centroids = full_lattice.centroids\n",
    "\n",
    "# extract voxel indices of all voxels\n",
    "vox_indices = np.array(np.where(full_lattice==1)).T\n",
    "\n",
    "# setting the noise base pressure level \n",
    "noise_base = 60.0\n",
    "noise_base1 = 70.0\n",
    "noise_base2 = 50.0\n",
    "# initializing the sum lattice of noise\n",
    "sum_noise_lats = avail_lattice * 0.0\n",
    "\n",
    "# for each source of noise\n",
    "for noise_src in noise_sources:\n",
    "    # initialize the occupation lattice\n",
    "    dist_latice = avail_lattice * 0.0\n",
    "\n",
    "    for cen, ind in zip(vox_centroids, vox_indices):\n",
    "        # compute the euclidian distance\n",
    "        dist_latice[tuple(ind)] = sp.spatial.distance.euclidean(cen, noise_src)\n",
    "\n",
    "    # computing the noise lattice from dist lattice\n",
    "    noise_latice = noise_base - 20 * np.log10(dist_latice) - 8\n",
    "    \n",
    "    # summing\n",
    "    sum_noise_lats += np.power(10, noise_latice / 10.0)\n",
    "\n",
    "# for each source of noise\n",
    "for noise_src1 in noise_sources1:\n",
    "    # initialize the occupation lattice\n",
    "    dist_latice = avail_lattice * 0.0\n",
    "\n",
    "    for cen, ind in zip(vox_centroids, vox_indices):\n",
    "        # compute the euclidian distance\n",
    "        dist_latice[tuple(ind)] = sp.spatial.distance.euclidean(cen, noise_src1)\n",
    "\n",
    "    # computing the noise lattice from dist lattice\n",
    "    noise_latice = noise_base1 - 20 * np.log10(dist_latice) - 8\n",
    "    \n",
    "    # summing\n",
    "    sum_noise_lats += np.power(10, noise_latice / 10.0)\n",
    "\n",
    "# for each source of noise\n",
    "for noise_src2 in noise_sources2:\n",
    "    # initialize the occupation lattice\n",
    "    dist_latice = avail_lattice * 0.0\n",
    "\n",
    "    for cen, ind in zip(vox_centroids, vox_indices):\n",
    "        # compute the euclidian distance\n",
    "        dist_latice[tuple(ind)] = sp.spatial.distance.euclidean(cen, noise_src2)\n",
    "\n",
    "    # computing the noise lattice from dist lattice\n",
    "    noise_latice = noise_base2 - 20 * np.log10(dist_latice) - 8\n",
    "    \n",
    "    # summing\n",
    "    sum_noise_lats += np.power(10, noise_latice / 10.0)\n",
    "\n",
    "\n",
    "# computing the final aggregation\n",
    "agg_noise_lats = 10 * np.log10(sum_noise_lats)\n"
   ]
  },
  {
   "cell_type": "markdown",
   "metadata": {},
   "source": [
    "#### 1.2. Visualizing the noise lattices"
   ]
  },
  {
   "cell_type": "code",
   "execution_count": 23,
   "metadata": {},
   "outputs": [
    {
     "data": {
      "application/vnd.jupyter.widget-view+json": {
       "model_id": "9e852547148448bea978c082939abb49",
       "version_major": 2,
       "version_minor": 0
      },
      "text/plain": [
       "ViewInteractiveWidget(height=768, layout=Layout(height='auto', width='100%'), width=1024)"
      ]
     },
     "metadata": {},
     "output_type": "display_data"
    },
    {
     "data": {
      "text/plain": [
       "[(785.6075686833789, 708.1911636833788, 743.2184808333789),\n",
       " (65.08283250000001, -12.333572500000002, 22.69374465),\n",
       " (0.0, 0.0, 1.0)]"
      ]
     },
     "execution_count": 23,
     "metadata": {},
     "output_type": "execute_result"
    }
   ],
   "source": [
    "# initiating the plotter\n",
    "p = pv.Plotter(notebook=True)\n",
    "\n",
    "vis_lattice = agg_noise_lats\n",
    "\n",
    "# Create the spatial reference\n",
    "grid = pv.UniformGrid()\n",
    "\n",
    "# Set the grid dimensions: shape because we want to inject our values\n",
    "grid.dimensions = vis_lattice.shape\n",
    "# The bottom left corner of the data set\n",
    "grid.origin = vis_lattice.minbound\n",
    "# These are the cell sizes along each axis\n",
    "grid.spacing = vis_lattice.unit\n",
    "\n",
    "# Add the data values to the cell data\n",
    "grid.point_arrays[\"Noise\"] = vis_lattice.flatten(order=\"F\")  # Flatten the Lattice\n",
    "\n",
    "    \n",
    "# adding the volume\n",
    "opacity = np.array([0,0.6,0.6,0.6,0.6,0.6,0.6])*1.5\n",
    "p.add_volume(grid, cmap=\"coolwarm\" ,opacity=opacity, shade=True)\n",
    "p.add_mesh(tri_to_pv(context_mesh), color='#aaaaaa')\n",
    "\n",
    "# plotting\n",
    "p.show(use_ipyvtk=True)"
   ]
  },
  {
   "cell_type": "markdown",
   "metadata": {},
   "source": [
    "#### Saving to csv"
   ]
  },
  {
   "cell_type": "code",
   "execution_count": 24,
   "metadata": {},
   "outputs": [],
   "source": [
    "csv_path = os.path.relpath('../Data/dynamic output/noise_field.csv')\n",
    "agg_noise_lats.to_csv(csv_path)"
   ]
  },
  {
   "cell_type": "markdown",
   "metadata": {},
   "source": [
    "## Credits"
   ]
  },
  {
   "cell_type": "code",
   "execution_count": 25,
   "metadata": {},
   "outputs": [],
   "source": [
    "__author__ = \"Shervin Azadi\"\n",
    "__license__ = \"MIT\"\n",
    "__version__ = \"1.0\"\n",
    "__url__ = \"https://github.com/shervinazadi/spatial_computing_workshops\"\n",
    "__summary__ = \"Spatial Computing Design Studio Workshop on Noise Fields\""
   ]
  }
 ],
 "metadata": {
  "interpreter": {
   "hash": "28a2f6de4be54e4b20c98f94606463bb978ba5635399bf418f15e23a59959bf5"
  },
  "kernelspec": {
   "display_name": "Python 3.8.8 64-bit ('base': conda)",
   "language": "python",
   "name": "python3"
  },
  "language_info": {
   "codemirror_mode": {
    "name": "ipython",
    "version": 3
   },
   "file_extension": ".py",
   "mimetype": "text/x-python",
   "name": "python",
   "nbconvert_exporter": "python",
   "pygments_lexer": "ipython3",
   "version": "3.8.5"
  },
  "orig_nbformat": 4
 },
 "nbformat": 4,
 "nbformat_minor": 2
}
