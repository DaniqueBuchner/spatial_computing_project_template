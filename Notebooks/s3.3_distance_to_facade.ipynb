{
 "cells": [
  {
   "cell_type": "markdown",
   "metadata": {},
   "source": [
    "# Distance to facade"
   ]
  },
  {
   "cell_type": "markdown",
   "metadata": {},
   "source": [
    "### Pesudocode\n",
    "\n",
    "```python\n",
    "# initialization\n",
    "import numpy, topogenesis, ...\n",
    "\n",
    "# load lattice\n",
    "read lattice.csv & transform to lattice\n",
    "\n",
    "# find the facade\n",
    "define stencil\n",
    "\n",
    "insider = []\n",
    "for i in lattice.find_neighbors(stencil):\n",
    "    inside = True\n",
    "    for n in i:\n",
    "        if n is not avail:\n",
    "            inside = False\n",
    "    if inside:\n",
    "        insider.append(i)\n",
    "\n",
    "facade = avail_lattice\n",
    "for i in insider:\n",
    "    facade[i[0],i[1],:] = False\n",
    "\n",
    "# calculate distance to facade\n",
    "define lattice_cens, facade_locs\n",
    "\n",
    "dist_m = []\n",
    "for voxel_cen in lattice_cens:\n",
    "    dist_v = []\n",
    "    for facade_cen in facade_locs:\n",
    "        dist_v.append(distance voxel_cen to facade_cen)\n",
    "    dist_m.append(dist_v)\n",
    "min_dist = np.array(dist_m).min(axis=1)\n",
    "\n",
    "make min_dist a lattice: envelope_eu_dist_lattice\n",
    "envelope_eu_dist_lattice += 1\n",
    "\n",
    "# visualization and saving\n",
    "visualize\n",
    "save to csv\n",
    "```"
   ]
  },
  {
   "cell_type": "markdown",
   "metadata": {},
   "source": [
    "### 0. Initialization\n",
    "\n",
    "#### 0.1. Importing packages and lattices"
   ]
  },
  {
   "cell_type": "code",
   "execution_count": null,
   "metadata": {},
   "outputs": [],
   "source": [
    "import os\n",
    "import topogenesis as tg\n",
    "import pyvista as pv\n",
    "import trimesh as tm\n",
    "import numpy as np\n",
    "\n",
    "# convert mesh to pv_mesh\n",
    "def tri_to_pv(tri_mesh):\n",
    "    faces = np.pad(tri_mesh.faces, ((0, 0),(1,0)), 'constant', constant_values=3)\n",
    "    pv_mesh = pv.PolyData(tri_mesh.vertices, faces)\n",
    "    return pv_mesh"
   ]
  },
  {
   "cell_type": "code",
   "execution_count": null,
   "metadata": {},
   "outputs": [],
   "source": [
    "# loading the lattice from csv\n",
    "lattice_path = os.path.relpath('../Data/dynamic output/voxelized_envelope_cut.csv')\n",
    "avail_lattice = tg.lattice_from_csv(lattice_path)\n",
    "init_avail_lattice = tg.to_lattice(np.copy(avail_lattice), avail_lattice)"
   ]
  },
  {
   "cell_type": "markdown",
   "metadata": {},
   "source": [
    "#### 0.2. Defining neighbourhood and facade"
   ]
  },
  {
   "cell_type": "code",
   "execution_count": null,
   "metadata": {},
   "outputs": [],
   "source": [
    "# creating neighborhood definition\n",
    "stencil = tg.create_stencil(\"von_neumann\", 1, 1)"
   ]
  },
  {
   "cell_type": "code",
   "execution_count": null,
   "metadata": {},
   "outputs": [],
   "source": [
    "insider = []\n",
    "for i in avail_lattice.find_neighbours(stencil):\n",
    "    inside = True\n",
    "    for n in i:\n",
    "        neigh_3d_id = np.unravel_index(n, init_avail_lattice.shape)\n",
    "        if not avail_lattice[neigh_3d_id]:\n",
    "            inside = False\n",
    "    if inside:\n",
    "        insider.append(np.unravel_index(i[0], init_avail_lattice.shape))\n",
    "\n",
    "facade = avail_lattice\n",
    "for i in insider:\n",
    "    facade[i[0],i[1],:] = False"
   ]
  },
  {
   "cell_type": "markdown",
   "metadata": {},
   "source": [
    "#### 0.3. Visualizing facade"
   ]
  },
  {
   "cell_type": "code",
   "execution_count": null,
   "metadata": {},
   "outputs": [],
   "source": [
    "# initiating the plotter\n",
    "p = pv.Plotter()\n",
    "\n",
    "# fast visualization of the lattice\n",
    "init_avail_lattice.fast_vis(p, color=\"66ccff\")\n",
    "facade.fast_vis(p)\n",
    "\n",
    "# plotting\n",
    "p.show()"
   ]
  },
  {
   "cell_type": "markdown",
   "metadata": {},
   "source": [
    "### 1. Distance to facade\n",
    "\n",
    "#### 1.1 Calculating distance to facade"
   ]
  },
  {
   "cell_type": "code",
   "execution_count": null,
   "metadata": {},
   "outputs": [],
   "source": [
    "lattice_cens = init_avail_lattice.centroids_threshold(-1)\n",
    "facade_locs = facade.centroids_threshold(0)\n",
    "\n",
    "dist_m = []\n",
    "for voxel_cen in lattice_cens:\n",
    "    dist_v = []\n",
    "    for facade_location in facade_locs:\n",
    "        diff = voxel_cen - facade_location\n",
    "        diff_p2 = diff**2\n",
    "        diff_p2s = diff_p2.sum()\n",
    "        dist = diff_p2s**0.5\n",
    "        dist_v.append(dist)\n",
    "    dist_m.append(dist_v)\n",
    "dist_m = np.array(dist_m)\n",
    "min_dist = dist_m.min(axis=1)\n",
    "eu_distance_lattice = tg.to_lattice(min_dist.reshape(init_avail_lattice.shape), init_avail_lattice)\n",
    "\n",
    "envelope_eu_dist_lattice = eu_distance_lattice * init_avail_lattice\n",
    "envelope_eu_dist_lattice[init_avail_lattice==False] -= 1\n",
    "envelope_eu_dist_lattice +=1"
   ]
  },
  {
   "cell_type": "markdown",
   "metadata": {},
   "source": [
    "#### 1.2. Visualizing distance to facade"
   ]
  },
  {
   "cell_type": "code",
   "execution_count": null,
   "metadata": {},
   "outputs": [],
   "source": [
    "# initiating the plotter\n",
    "p = pv.Plotter()\n",
    "\n",
    "l = envelope_eu_dist_lattice\n",
    "\n",
    "# Create the spatial reference\n",
    "grid = pv.UniformGrid()\n",
    "\n",
    "# Set the grid dimensions: shape because we want to inject our values\n",
    "grid.dimensions = l.shape\n",
    "# The bottom left corner of the data set\n",
    "grid.origin = l.minbound\n",
    "# These are the cell sizes along each axis\n",
    "grid.spacing = l.unit\n",
    "\n",
    "# Add the data values to the cell data\n",
    "grid.point_arrays[\"Distance from Facade\"] = l.flatten(order=\"F\")  # Flatten the Lattice\n",
    "\n",
    "# adding the volume\n",
    "p.add_volume(grid, cmap=\"Oranges\", shade=False, show_scalar_bar=True)\n",
    "\n",
    "# plotting\n",
    "p.show()"
   ]
  },
  {
   "cell_type": "markdown",
   "metadata": {},
   "source": [
    "#### Saving to csv"
   ]
  },
  {
   "cell_type": "code",
   "execution_count": null,
   "metadata": {},
   "outputs": [],
   "source": [
    "csv_path = os.path.relpath('../Data/dynamic output/dist_fac.csv')\n",
    "envelope_eu_dist_lattice.to_csv(csv_path)"
   ]
  },
  {
   "cell_type": "markdown",
   "metadata": {},
   "source": [
    "### Credits"
   ]
  },
  {
   "cell_type": "code",
   "execution_count": null,
   "metadata": {},
   "outputs": [],
   "source": [
    "__author__ = \"Shervin Azadi and Pirouz Nourian\"\n",
    "__license__ = \"MIT\"\n",
    "__version__ = \"1.0\"\n",
    "__url__ = \"https://github.com/shervinazadi/spatial_computing_workshops\"\n",
    "__summary__ = \"Spatial Computing Design Studio Workshop on Solar Envelope\""
   ]
  }
 ],
 "metadata": {
  "kernelspec": {
   "display_name": "Python 3.8.5 64-bit ('sc_workshops': conda)",
   "metadata": {
    "interpreter": {
     "hash": "787ea478c22349cf73d867deb0a19fc58e75e9742a9aed6f48d06cc412ad6e3b"
    }
   },
   "name": "python3"
  },
  "language_info": {
   "codemirror_mode": {
    "name": "ipython",
    "version": 3
   },
   "file_extension": ".py",
   "mimetype": "text/x-python",
   "name": "python",
   "nbconvert_exporter": "python",
   "pygments_lexer": "ipython3",
   "version": "3.8.8"
  }
 },
 "nbformat": 4,
 "nbformat_minor": 2
}
