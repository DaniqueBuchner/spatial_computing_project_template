{
 "cells": [
  {
   "cell_type": "markdown",
   "metadata": {},
   "source": [
    "## Shaping of the envelope"
   ]
  },
  {
   "cell_type": "markdown",
   "metadata": {},
   "source": [
    "### Pesudocode\n",
    "\n",
    "```python\n",
    "# initialization\n",
    "import topogenesis, numpy, pandas, ...\n",
    "\n",
    "# load the interpolated lattice\n",
    "read sun_blockage.csv & turn into sunblockage_lattice_hi\n",
    "\n",
    "# create different lattice from threshold\n",
    "n_frames = 25\n",
    "for i in range(0,n_frames+1):\n",
    "    frames.append(sunblockage_lattice_hi > i/25)\n",
    "\n",
    "# calculate how many voxels inside\n",
    "n_voxel = []\n",
    "for frame in frames:\n",
    "    n_voxel.append(sum(np.array(frame).flatten()))\n",
    "\n",
    "# choose threshold based on how many voxel needed\n",
    "base_lattice = frame[14]\n",
    "\n",
    "# visualization and saving\n",
    "visualize\n",
    "save to csv\n",
    "```"
   ]
  },
  {
   "cell_type": "markdown",
   "metadata": {},
   "source": [
    "### 0. Initialization\n",
    "#### 0.1. importing packages and sunblockage"
   ]
  },
  {
   "cell_type": "code",
   "execution_count": null,
   "metadata": {},
   "outputs": [],
   "source": [
    "import os\n",
    "import topogenesis as tg\n",
    "import pyvista as pv\n",
    "import trimesh as tm\n",
    "import numpy as np\n",
    "import pandas as pd\n",
    "\n",
    "# convert mesh to pv_mesh\n",
    "def tri_to_pv(tri_mesh):\n",
    "    faces = np.pad(tri_mesh.faces, ((0, 0),(1,0)), 'constant', constant_values=3)\n",
    "    pv_mesh = pv.PolyData(tri_mesh.vertices, faces)\n",
    "    return pv_mesh"
   ]
  },
  {
   "cell_type": "code",
   "execution_count": null,
   "metadata": {},
   "outputs": [],
   "source": [
    "# Run this part after running 'w+4_interpolation_sun_blockage'\n",
    "lattice_path = os.path.relpath('../data/dynamic output/sun_blockage.csv')\n",
    "sunblockage_lattice_hi = tg.lattice_from_csv(lattice_path)"
   ]
  },
  {
   "cell_type": "markdown",
   "metadata": {},
   "source": [
    "### 0.2. Visualizing the sun blockage"
   ]
  },
  {
   "cell_type": "code",
   "execution_count": null,
   "metadata": {},
   "outputs": [],
   "source": [
    "# initiating the plotter\n",
    "p = pv.Plotter(notebook=True)\n",
    "\n",
    "# Create the spatial reference\n",
    "grid = pv.UniformGrid()\n",
    "\n",
    "# Set the grid dimensions: shape because we want to inject our values\n",
    "grid.dimensions = sunblockage_lattice_hi.shape\n",
    "# The bottom left corner of the data set\n",
    "grid.origin = sunblockage_lattice_hi.minbound\n",
    "# These are the cell sizes along each axis\n",
    "grid.spacing = sunblockage_lattice_hi.unit\n",
    "\n",
    "# Add the data values to the cell data\n",
    "grid.point_arrays[\"Sun Blockage\"] = sunblockage_lattice_hi.flatten(order=\"F\")  # Flatten the Lattice\n",
    "\n",
    "# adding the meshes\n",
    "# p.add_mesh(tri_to_pv(context_mesh), opacity=0.1, style='wireframe')\n",
    "    \n",
    "# adding the volume\n",
    "opacity = np.array([0,0.6,0.6,0.6,0.6,0.6,0.6])\n",
    "p.add_volume(grid, cmap=\"coolwarm\", clim=[0, 1.0],opacity=opacity, shade=True)\n",
    "\n",
    "# plotting\n",
    "p.show()"
   ]
  },
  {
   "cell_type": "markdown",
   "metadata": {},
   "source": [
    "## 1. Shaping\n",
    "### 1.1. cutting voxels"
   ]
  },
  {
   "cell_type": "code",
   "execution_count": null,
   "metadata": {},
   "outputs": [],
   "source": [
    "# Try cut the voxels based on shadow casted\n",
    "n_frames = 25\n",
    "frames = list()\n",
    "for i in range(0,n_frames+1):\n",
    "    frames.append(sunblockage_lattice_hi>i/25)"
   ]
  },
  {
   "cell_type": "code",
   "execution_count": null,
   "metadata": {},
   "outputs": [],
   "source": [
    "sizes_complete = pd.read_csv(\"../Data/raw data/Agent_sizes.csv\")\n",
    "Area = sizes_complete['Area']\n",
    "print(sum(Area))\n",
    "print(sum(Area)/(3.6**2))"
   ]
  },
  {
   "cell_type": "code",
   "execution_count": null,
   "metadata": {},
   "outputs": [],
   "source": [
    "n_voxel = []\n",
    "for frame in frames:\n",
    "    n_voxel.append(sum(np.array(frame).flatten()))\n",
    "\n",
    "print(n_voxel[14])\n",
    "base_lattice = frames[14]"
   ]
  },
  {
   "cell_type": "markdown",
   "metadata": {},
   "source": [
    "### 1.2. Visualizing shaped envelope"
   ]
  },
  {
   "cell_type": "code",
   "execution_count": null,
   "metadata": {},
   "outputs": [],
   "source": [
    "p = pv.Plotter(notebook=True)\n",
    "\n",
    "base_lattice.fast_vis(p)\n",
    "\n",
    "# Set the grid dimensions: shape + 1 because we want to inject our values on the CELL data\n",
    "grid = pv.UniformGrid()\n",
    "grid.dimensions = np.array(base_lattice.shape) + 1\n",
    "# The bottom left corner of the data set\n",
    "grid.origin = base_lattice.minbound - base_lattice.unit * 0.5\n",
    "# These are the cell sizes along each axis\n",
    "grid.spacing = base_lattice.unit \n",
    "\n",
    "# adding the boundingbox wireframe\n",
    "p.add_mesh(grid.outline(), color=\"grey\", label=\"Domain\")\n",
    "\n",
    "# adding axes\n",
    "p.add_axes()\n",
    "p.show_bounds(grid=\"back\", location=\"back\", color=\"#aaaaaa\")\n",
    "p.show()"
   ]
  },
  {
   "cell_type": "code",
   "execution_count": null,
   "metadata": {},
   "outputs": [],
   "source": [
    "# p = pv.Plotter(notebook=True)\n",
    "\n",
    "# base_lattice = frames[25]\n",
    "\n",
    "# # Set the grid dimensions: shape + 1 because we want to inject our values on the CELL data\n",
    "# grid = pv.UniformGrid()\n",
    "# grid.dimensions = np.array(base_lattice.shape) + 1\n",
    "# # The bottom left corner of the data set\n",
    "# grid.origin = base_lattice.minbound - base_lattice.unit * 0.5\n",
    "# # These are the cell sizes along each axis\n",
    "# grid.spacing = base_lattice.unit \n",
    "\n",
    "# # adding the boundingbox wireframe\n",
    "# p.add_mesh(grid.outline(), color=\"grey\", label=\"Domain\")\n",
    "\n",
    "# # adding axes\n",
    "# p.add_axes()\n",
    "# p.show_bounds(grid=\"back\", location=\"back\", color=\"#aaaaaa\")\n",
    "\n",
    "# def create_mesh(value):\n",
    "#     f = int(value)\n",
    "#     lattice = frames[n_frames-f]\n",
    "#     lattice.fast_vis(p)\n",
    "#     return\n",
    "\n",
    "# p.add_slider_widget(create_mesh, [0,n_frames], title='Threshold', value=0, event_type=\"always\", style=\"classic\")\n",
    "# p.show(use_ipyvtk=True)"
   ]
  },
  {
   "cell_type": "markdown",
   "metadata": {},
   "source": [
    "### 1.3. Defining neighbourhood"
   ]
  },
  {
   "cell_type": "code",
   "execution_count": null,
   "metadata": {},
   "outputs": [],
   "source": [
    "# creating neighborhood definition\n",
    "stencil = tg.create_stencil(\"von_neumann\", 0, 1)\n",
    "# setting the center to zero\n",
    "stencil.set_index([0,0,0], 1)\n",
    "stencil.set_index([0,0,1], 1)\n",
    "stencil.set_index([0,0,-1], 1)\n",
    "\n",
    "p = pv.Plotter(notebook=True)\n",
    "grid = pv.UniformGrid()\n",
    "\n",
    "grid.dimensions = np.array(stencil.shape) + 1\n",
    "grid.origin = [0,0,0]\n",
    "grid.spacing = [1,1,1]\n",
    "\n",
    "grid.cell_arrays[\"values\"] = stencil.flatten(order=\"F\")\n",
    "threshed = grid.threshold([0.9, 1.1])\n",
    "\n",
    "p.add_mesh(threshed, show_edges=True, color=\"#ff8fa3\", opacity=0.3)\n",
    "p.show()"
   ]
  },
  {
   "cell_type": "markdown",
   "metadata": {},
   "source": [
    "### 1.4. Cutting voxels ..."
   ]
  },
  {
   "cell_type": "code",
   "execution_count": null,
   "metadata": {},
   "outputs": [],
   "source": [
    "insider = []\n",
    "for i in base_lattice.find_neighbours(stencil):\n",
    "    inside = False\n",
    "    for n in i:\n",
    "        neigh_3d_id = np.unravel_index(n, base_lattice.shape)\n",
    "        if not base_lattice[neigh_3d_id]:\n",
    "            inside = True\n",
    "    if inside:\n",
    "        insider.append(np.unravel_index(i[0], base_lattice.shape))\n",
    "\n",
    "for i in insider:\n",
    "    base_lattice[i[0],i[1],i[2]] = False"
   ]
  },
  {
   "cell_type": "markdown",
   "metadata": {},
   "source": [
    "### 1.5. Visualizing final envelope"
   ]
  },
  {
   "cell_type": "code",
   "execution_count": null,
   "metadata": {},
   "outputs": [],
   "source": [
    "p = pv.Plotter(notebook=True)\n",
    "\n",
    "base_lattice.fast_vis(p)\n",
    "\n",
    "# Set the grid dimensions: shape + 1 because we want to inject our values on the CELL data\n",
    "grid = pv.UniformGrid()\n",
    "grid.dimensions = np.array(base_lattice.shape) + 1\n",
    "# The bottom left corner of the data set\n",
    "grid.origin = base_lattice.minbound - base_lattice.unit * 0.5\n",
    "# These are the cell sizes along each axis\n",
    "grid.spacing = base_lattice.unit \n",
    "\n",
    "# adding the boundingbox wireframe\n",
    "p.add_mesh(grid.outline(), color=\"grey\", label=\"Domain\")\n",
    "\n",
    "# adding axes\n",
    "p.add_axes()\n",
    "p.show_bounds(grid=\"back\", location=\"back\", color=\"#aaaaaa\")\n",
    "p.show()"
   ]
  },
  {
   "cell_type": "markdown",
   "metadata": {},
   "source": [
    "## 2. Saving to csv"
   ]
  },
  {
   "cell_type": "code",
   "execution_count": null,
   "metadata": {},
   "outputs": [],
   "source": [
    "csv_path = os.path.relpath('../data/dynamic output/voxelized_envelope_cut.csv')\n",
    "base_lattice.to_csv(csv_path)"
   ]
  },
  {
   "cell_type": "markdown",
   "metadata": {},
   "source": [
    "## 3. Credits"
   ]
  },
  {
   "cell_type": "code",
   "execution_count": null,
   "metadata": {},
   "outputs": [],
   "source": []
  }
 ],
 "metadata": {
  "interpreter": {
   "hash": "8f51cfef54ea72e87bbf54558132f8bd04472fa843b3a28c2faf8593e16debcd"
  },
  "kernelspec": {
   "display_name": "Python 3.8.5 64-bit ('scds': conda)",
   "language": "python",
   "name": "python3"
  },
  "language_info": {
   "codemirror_mode": {
    "name": "ipython",
    "version": 3
   },
   "file_extension": ".py",
   "mimetype": "text/x-python",
   "name": "python",
   "nbconvert_exporter": "python",
   "pygments_lexer": "ipython3",
   "version": "3.8.5"
  },
  "orig_nbformat": 4
 },
 "nbformat": 4,
 "nbformat_minor": 2
}
