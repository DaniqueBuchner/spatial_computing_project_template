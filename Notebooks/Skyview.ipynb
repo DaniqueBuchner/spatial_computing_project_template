{
 "cells": [
  {
   "cell_type": "markdown",
   "metadata": {},
   "source": [
    "### Pesudocode\n",
    "\n",
    "```python\n",
    "# initialization\n",
    "import numpy, topogenesis, ladybug, ...\n",
    "load optional_envelope.obj, immediate_context.obj\n",
    "read voxelized_envelope_lowres.csv & transform to envelope_lattice\n",
    "\n",
    "# compute sum vectors\n",
    "create icosphere\n",
    "if icosphere above horizontal:\n",
    "    add sun_vector\n",
    "\n",
    "# The Latter part is identical to solar_envelope file\n",
    "\n",
    "# create sun directions and sun sources\n",
    "for cen in voxel_cens:\n",
    "    for sun_dir in sun_vector:\n",
    "        ray_src.append(cen)\n",
    "        ray_dir.append(sun_dir)\n",
    "\n",
    "# calculation\n",
    "tri_id, ray_id = context_mesh.ray.intersects_id(ray_src, ray_dir, multiple_hits=False)\n",
    "\n",
    "# calculate the percentage of hitting\n",
    "for voxels:\n",
    "    for rays:\n",
    "        add hits to the corresponding voxel\n",
    "    compute hits/(total rays)\n",
    "    store the result\n",
    "\n",
    "# transform to a lattice\n",
    "for flattened avail lattice:\n",
    "    if avail:\n",
    "        append the percentage\n",
    "    else:\n",
    "        append 0\n",
    "reshape to create a lattice\n",
    "\n",
    "# visualization and saving\n",
    "visualize\n",
    "save to csv\n",
    "```"
   ]
  },
  {
   "cell_type": "markdown",
   "metadata": {},
   "source": [
    "## 0. Initialization\n",
    "Importing all necessary libraries and specifying the inputs"
   ]
  },
  {
   "cell_type": "code",
   "execution_count": null,
   "metadata": {},
   "outputs": [],
   "source": [
    "import os\n",
    "import topogenesis as tg\n",
    "import pyvista as pv\n",
    "import trimesh as tm\n",
    "import numpy as np\n",
    "from ladybug.sunpath import Sunpath\n",
    "\n",
    "# convert mesh to pv_mesh\n",
    "def tri_to_pv(tri_mesh):\n",
    "    faces = np.pad(tri_mesh.faces, ((0, 0),(1,0)), 'constant', constant_values=3)\n",
    "    pv_mesh = pv.PolyData(tri_mesh.vertices, faces)\n",
    "    return pv_mesh"
   ]
  },
  {
   "cell_type": "markdown",
   "metadata": {},
   "source": [
    "## 1. Import Meshes (context + envelope)\n",
    "\n",
    "### 1.1. Load Meshes"
   ]
  },
  {
   "cell_type": "code",
   "execution_count": null,
   "metadata": {},
   "outputs": [],
   "source": [
    "envelope_path = os.path.relpath('../Data/raw data/optional_envelope.obj')\n",
    "context_path = os.path.relpath('../Data/raw data/immediate_context.obj')\n",
    "\n",
    "# load the mesh from file\n",
    "envelope_mesh = tm.load(envelope_path)\n",
    "context_mesh = tm.load(context_path)\n",
    "\n",
    "# Check if the mesh is watertight\n",
    "print(envelope_mesh.is_watertight)\n",
    "print(context_mesh.is_watertight)"
   ]
  },
  {
   "cell_type": "markdown",
   "metadata": {},
   "source": [
    "## 2. Import Lattice (envelope)\n",
    "\n",
    "### 2.1. Load the Envelope Lattice"
   ]
  },
  {
   "cell_type": "code",
   "execution_count": null,
   "metadata": {},
   "outputs": [],
   "source": [
    "# loading the lattice from csv\n",
    "lattice_path = os.path.relpath('../Data/dynamic output/voxelized_envelope_lowres.csv')\n",
    "envelope_lattice = tg.lattice_from_csv(lattice_path)"
   ]
  },
  {
   "cell_type": "markdown",
   "metadata": {},
   "source": [
    "### 2.2. Visualize the Context Mesh + Envelope Lattice"
   ]
  },
  {
   "cell_type": "code",
   "execution_count": null,
   "metadata": {},
   "outputs": [],
   "source": [
    "# initiating the plotter\n",
    "p = pv.Plotter()\n",
    "\n",
    "# fast visualization of the lattice\n",
    "envelope_lattice.fast_vis(p)\n",
    "\n",
    "# adding the meshes\n",
    "p.add_mesh(tri_to_pv(context_mesh), color='#aaaaaa')\n",
    "\n",
    "# plotting\n",
    "# p.show()"
   ]
  },
  {
   "cell_type": "markdown",
   "metadata": {},
   "source": [
    "## 3. Sun Vectors\n",
    "\n",
    "### 3.1. Compute Sun Vectors"
   ]
  },
  {
   "cell_type": "code",
   "execution_count": null,
   "metadata": {},
   "outputs": [],
   "source": [
    "# copy from green valley\n",
    "sphere_mesh = tm.creation.icosphere(subdivisions=3, radius=1.0, color=None)\n",
    "sphere_vectors = np.copy(sphere_mesh.vertices)\n",
    "\n",
    "sky_vectors = []\n",
    "for v in sphere_vectors:\n",
    "    if v[2] > 0.0:\n",
    "        sky_vectors.append(v)\n",
    "\n",
    "sky_vectors = np.array(sky_vectors)\n",
    "print(sky_vectors.shape)"
   ]
  },
  {
   "cell_type": "code",
   "execution_count": null,
   "metadata": {},
   "outputs": [],
   "source": [
    "# initiating the plotter\n",
    "p = pv.Plotter(notebook=True)\n",
    "\n",
    "# fast visualization of the lattice\n",
    "envelope_lattice.fast_vis(p)\n",
    "\n",
    "# adding the meshes\n",
    "p.add_mesh(tri_to_pv(sphere_mesh), color='#aaaaaa')\n",
    "\n",
    "# add the sun locations, color orange\n",
    "p.add_points(sky_vectors * 80, color='#ffa500')\n",
    "\n",
    "# plotting\n",
    "p.show()"
   ]
  },
  {
   "cell_type": "markdown",
   "metadata": {},
   "source": [
    "## 4. Compute Intersection of Sun Rays with Context Mesh\n",
    "\n",
    "### 4.1. Preparing the List of Ray Directions and Origins"
   ]
  },
  {
   "cell_type": "code",
   "execution_count": null,
   "metadata": {},
   "outputs": [],
   "source": [
    "# exract the centroids of the envelope voxels\n",
    "vox_cens = envelope_lattice.centroids\n",
    "# next step we need to shoot in all of the sun directions from all of the voxels, todo so, we need repeat the sun direction for the number of voxels to construct the ray_dir (which is the list of all ray directions). We need to repeat the voxels for the \n",
    "sv_dir = []\n",
    "sv_src = []\n",
    "for v_cen in vox_cens:\n",
    "    for s_dir in sky_vectors:\n",
    "        sv_dir.append(s_dir)\n",
    "        sv_src.append(v_cen)\n",
    "# converting the list of directions and sources to numpy array\n",
    "sv_dir = np.array(sv_dir)\n",
    "sv_src = np.array(sv_src)\n",
    "\n",
    "\"\"\"\n",
    "# Further info: this is the vectorised version of nested for loops\n",
    "ray_dir = np.tile(sun_dirs, [len(vox_cens),1])\n",
    "ray_src = np.tile(vox_cens, [1, len(sun_dirs)]).reshape(-1, 3)\n",
    "\"\"\"\n",
    "\n",
    "print(\"number of voxels to shoot rays from :\",vox_cens.shape)\n",
    "print(\"number of rays per each voxel :\",sky_vectors.shape)\n",
    "print(\"number of rays to be shooted :\",sv_src.shape)"
   ]
  },
  {
   "cell_type": "markdown",
   "metadata": {},
   "source": [
    "### 4.2. Computing the Intersection"
   ]
  },
  {
   "cell_type": "code",
   "execution_count": null,
   "metadata": {},
   "outputs": [],
   "source": [
    "# computing the intersections of rays with the context mesh\n",
    "tri_sv_id, ray_sv_id = context_mesh.ray.intersects_id(ray_origins=sv_src, ray_directions=sv_dir, multiple_hits=False)"
   ]
  },
  {
   "cell_type": "markdown",
   "metadata": {},
   "source": [
    "## 5. Aggregate Simulation Result in the Sun Access Lattice\n",
    "\n",
    "### 5.1. Compute the percentage of time that each voxel sees the sun"
   ]
  },
  {
   "cell_type": "code",
   "execution_count": null,
   "metadata": {},
   "outputs": [],
   "source": [
    "sv_hits = [0]*len(sv_dir)\n",
    "\n",
    "for id in ray_sv_id:\n",
    "    sv_hits[id] = 1\n",
    "\n",
    "sun_count = len(sky_vectors)\n",
    "vox_count = len(vox_cens)\n",
    "\n",
    "# initiating the list of ratio\n",
    "vox_sv = []\n",
    "# iterate over the voxels\n",
    "for v_id in range(vox_count):\n",
    "    # counter for the intersection\n",
    "    sv_count = 0\n",
    "    # iterate over the sun rays\n",
    "    for s_id in range(sun_count):\n",
    "        # computing the ray id from voxel id and sun id\n",
    "        r_id = v_id * sun_count + s_id\n",
    "\n",
    "        # summing the intersections\n",
    "        sv_count += sv_hits[r_id]\n",
    "    \n",
    "    # computing the percentage of the rays that DID NOT have \n",
    "    # an intersection (aka could see the sun)\n",
    "    sv = 1.0 - sv_count/sun_count\n",
    "\n",
    "    # add the ratio to list\n",
    "    vox_sv.append(sv)\n",
    "\n",
    "sv_hits = np.array(sv_hits)\n",
    "\n",
    "vox_sv = np.array(vox_sv)"
   ]
  },
  {
   "cell_type": "markdown",
   "metadata": {},
   "source": [
    "### 5.2. Store sun access information in a Lattice"
   ]
  },
  {
   "cell_type": "code",
   "execution_count": null,
   "metadata": {},
   "outputs": [],
   "source": [
    "# getting the condition of all voxels: are they inside the envelop or not\n",
    "env_all_vox = envelope_lattice.flatten()\n",
    "\n",
    "# all voxels sun access\n",
    "all_vox_sv = []\n",
    "\n",
    "# v_id: voxel id in the list of only interior voxels\n",
    "v_id = 0\n",
    "\n",
    "# for all the voxels, place the interiority condition of each voxel in \"vox_in\"\n",
    "for vox_in in env_all_vox:\n",
    "    # if the voxel was outside...\n",
    "    if vox_in == True:\n",
    "        # read its value of sun access and append it to the list of all voxel sun access\n",
    "        all_vox_sv.append(vox_sv[v_id])\n",
    "        # add one to the voxel id so the next time we read the next voxel\n",
    "        v_id += 1\n",
    "    # if the voxel was not inside... \n",
    "    else:\n",
    "        # add 0.0 for its sun access\n",
    "        all_vox_sv.append(0)\n",
    "\n",
    "# convert to array\n",
    "sv_array = np.array(all_vox_sv)\n",
    "\n",
    "# reshape to lattice shape\n",
    "sv_array = sv_array.reshape(envelope_lattice.shape)\n",
    "\n",
    "# convert to lattice\n",
    "sv_lattice = tg.to_lattice(sv_array, envelope_lattice)\n",
    "\n",
    "print(sv_lattice.shape)"
   ]
  },
  {
   "cell_type": "markdown",
   "metadata": {},
   "source": [
    "### 5.3. Visualize the sun access lattice"
   ]
  },
  {
   "cell_type": "code",
   "execution_count": null,
   "metadata": {},
   "outputs": [],
   "source": [
    "# initiating the plotter\n",
    "p = pv.Plotter(notebook=True)\n",
    "\n",
    "l = sv_lattice\n",
    "# remapping\n",
    "l = 250 * (l - l.min()) / l.max()\n",
    "\n",
    "# Create the spatial reference\n",
    "grid = pv.UniformGrid()\n",
    "\n",
    "# Set the grid dimensions: shape because we want to inject our values\n",
    "grid.dimensions = l.shape\n",
    "# The bottom left corner of the data set\n",
    "grid.origin = l.minbound\n",
    "# These are the cell sizes along each axis\n",
    "grid.spacing = l.unit\n",
    "\n",
    "# Add the data values to the cell data\n",
    "grid.point_arrays[\"Sky View Factor\"] = l.flatten(order=\"F\")  # Flatten the Lattice\n",
    "\n",
    "# adding the meshes\n",
    "p.add_mesh(tri_to_pv(context_mesh), opacity=0.1, style='wireframe')\n",
    "    \n",
    "# adding the volume\n",
    "opacity = np.array([0,0.6,0.6,0.6,0.6,0.6,0.6])*1.5\n",
    "p.add_volume(grid, cmap=\"coolwarm\", clim=[0.5, 1.0],opacity=opacity, shade=True)\n",
    "\n",
    "# plotting\n",
    "p.show(use_ipyvtk=True)"
   ]
  },
  {
   "cell_type": "code",
   "execution_count": null,
   "metadata": {},
   "outputs": [],
   "source": [
    "# initiating the plotter\n",
    "p = pv.Plotter()\n",
    "\n",
    "l = sv_lattice\n",
    "\n",
    "# Create the spatial reference\n",
    "grid = pv.UniformGrid()\n",
    "\n",
    "# Set the grid dimensions: shape because we want to inject our values\n",
    "grid.dimensions = l.shape\n",
    "# The bottom left corner of the data set\n",
    "grid.origin = l.minbound\n",
    "# These are the cell sizes along each axis\n",
    "grid.spacing = l.unit\n",
    "\n",
    "# Add the data values to the cell data\n",
    "grid.point_arrays[\"Skyview Factor\"] = l.flatten(order=\"F\")  # Flatten the Lattice\n",
    "\n",
    "# adding the volume\n",
    "p.add_volume(grid, cmap=\"inferno\", shade=False, show_scalar_bar=True)\n",
    "\n",
    "# plotting\n",
    "p.show()"
   ]
  },
  {
   "cell_type": "markdown",
   "metadata": {},
   "source": [
    "## 6. Save Sun Access Lattice into a CSV"
   ]
  },
  {
   "cell_type": "code",
   "execution_count": null,
   "metadata": {},
   "outputs": [],
   "source": [
    "# save the sky view factor latice to csv\n",
    "csv_path = os.path.relpath('../Data/dynamic output/skyview_lowres.csv')\n",
    "sv_lattice.to_csv(csv_path)"
   ]
  },
  {
   "cell_type": "markdown",
   "metadata": {},
   "source": [
    "### Credits"
   ]
  },
  {
   "cell_type": "code",
   "execution_count": null,
   "metadata": {},
   "outputs": [],
   "source": [
    "__author__ = \"Shervin Azadi and Pirouz Nourian\"\n",
    "__license__ = \"MIT\"\n",
    "__version__ = \"1.0\"\n",
    "__url__ = \"https://github.com/shervinazadi/spatial_computing_workshops\"\n",
    "__summary__ = \"Spatial Computing Design Studio Workshop on Solar Envelope\""
   ]
  }
 ],
 "metadata": {
  "kernelspec": {
   "display_name": "Python 3.8.5 64-bit ('sc_workshops': conda)",
   "metadata": {
    "interpreter": {
     "hash": "787ea478c22349cf73d867deb0a19fc58e75e9742a9aed6f48d06cc412ad6e3b"
    }
   },
   "name": "python3"
  },
  "language_info": {
   "codemirror_mode": {
    "name": "ipython",
    "version": 3
   },
   "file_extension": ".py",
   "mimetype": "text/x-python",
   "name": "python",
   "nbconvert_exporter": "python",
   "pygments_lexer": "ipython3",
   "version": "3.8.5"
  }
 },
 "nbformat": 4,
 "nbformat_minor": 2
}
