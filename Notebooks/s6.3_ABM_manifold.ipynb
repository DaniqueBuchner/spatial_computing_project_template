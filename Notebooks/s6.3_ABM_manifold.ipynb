{
 "cells": [
  {
   "cell_type": "code",
   "execution_count": 1,
   "metadata": {},
   "outputs": [],
   "source": [
    "import os\n",
    "import topogenesis as tg\n",
    "import pyvista as pv\n",
    "import trimesh as tm\n",
    "import pandas as pd\n",
    "import numpy as np\n",
    "import networkx as nx\n",
    "from sklearn.cluster import KMeans\n",
    "import scipy as sp\n",
    "import pickle\n",
    "import matplotlib.pyplot as plt\n",
    "from multiprocessing import pool\n",
    "np.random.seed(0)"
   ]
  },
  {
   "cell_type": "code",
   "execution_count": 2,
   "metadata": {},
   "outputs": [],
   "source": [
    "# creating neighborhood definition\n",
    "stencil_mnf = tg.create_stencil(\"von_neumann\", 1, 1)\n",
    "# setting the center to zero\n",
    "stencil_mnf.set_index([0,0,0], 0)"
   ]
  },
  {
   "cell_type": "code",
   "execution_count": 3,
   "metadata": {},
   "outputs": [],
   "source": [
    "# loading the lattice from csv\n",
    "lattice_path = os.path.relpath('../Data/dynamic output/voxelized_envelope_cut.csv')\n",
    "avail_lattice = tg.lattice_from_csv(lattice_path)\n",
    "init_avail_lattice = tg.to_lattice(np.copy(avail_lattice), avail_lattice)"
   ]
  },
  {
   "cell_type": "code",
   "execution_count": 4,
   "metadata": {},
   "outputs": [],
   "source": [
    "neighs = init_avail_lattice.find_neighbours(stencil_mnf)\n",
    "max_dist = np.sum(init_avail_lattice.shape)\n",
    "env_lat_flat = init_avail_lattice.flatten()\n",
    "n_voxel = init_avail_lattice.shape[0]*init_avail_lattice.shape[1]*init_avail_lattice.shape[2]\n"
   ]
  },
  {
   "cell_type": "code",
   "execution_count": null,
   "metadata": {},
   "outputs": [],
   "source": [
    "mnfm = []\n",
    "for n in range(n_voxel):\n",
    "    street_connection_lattice = init_avail_lattice == -1\n",
    "    street_connection_lattice[np.unravel_index(n, avail_lattice.shape)] +=1\n",
    "    mn_dist_lattice = 1 - street_connection_lattice\n",
    "    mn_dist_lattice[mn_dist_lattice==1] = max_dist\n",
    "    mn_dist_lattice_flat = mn_dist_lattice.flatten()\n",
    "    for i in range(1, max_dist):\n",
    "        # find the neighbours of the previous step\n",
    "        next_step = neighs[mn_dist_lattice_flat == i - 1]\n",
    "        # find the unique neighbours\n",
    "        next_unq_step = np.unique(next_step.flatten())\n",
    "        # check if the neighbours of the next step are inside the envelope\n",
    "        validity_condition = env_lat_flat[next_unq_step]\n",
    "        # select the valid neighbours\n",
    "        next_valid_step = next_unq_step[validity_condition]\n",
    "        # make a copy of the lattice to prevent overwriting in the memory\n",
    "        mn_nex_dist_lattice_flat = np.copy(mn_dist_lattice_flat)\n",
    "        # set the next step cells to the current distance\n",
    "        mn_nex_dist_lattice_flat[next_valid_step] = i\n",
    "        # find the minimum of the current distance and previous distances to avoid overwriting previous steps\n",
    "        mn_dist_lattice_flat = np.minimum(mn_dist_lattice_flat, mn_nex_dist_lattice_flat)\n",
    "        \n",
    "        # check how many of the cells have not been traversed yet\n",
    "        filled_check = mn_dist_lattice_flat * env_lat_flat == max_dist\n",
    "        # if all the cells have been traversed, break the loop\n",
    "        if filled_check.sum() == 0:\n",
    "            print(i)\n",
    "            break\n",
    "    mnfm.append(mn_dist_lattice_flat)\n",
    "\n",
    "mn_dist_lattice = mnfm[1809].reshape(mn_dist_lattice.shape)"
   ]
  },
  {
   "cell_type": "code",
   "execution_count": null,
   "metadata": {},
   "outputs": [],
   "source": [
    "# set the lattice to be visualized\n",
    "l = mn_dist_lattice * init_avail_lattice\n",
    "\n",
    "# initiating the plotter\n",
    "p = pv.Plotter(notebook=True)\n",
    "\n",
    "# Create the spatial reference\n",
    "grid = pv.UniformGrid()\n",
    "\n",
    "# Set the grid dimensions: shape because we want to inject our values\n",
    "grid.dimensions = l.shape\n",
    "# The bottom left corner of the data set\n",
    "grid.origin = l.minbound\n",
    "# These are the cell sizes along each axis\n",
    "grid.spacing = l.unit\n",
    "\n",
    "# Add the data values to the cell data\n",
    "grid.point_arrays[\"Street Access\"] = l.flatten(order=\"F\")  # Flatten the Lattice\n",
    "    \n",
    "# adding the volume\n",
    "opacity = np.array([0,0.6,0.6,0.6,0.6,0.6,0.6]) * 1.5\n",
    "p.add_volume(grid, cmap=\"YlGn\", opacity=opacity, shade=False, show_scalar_bar=True)\n",
    "\n",
    "# plotting\n",
    "p.show(use_ipyvtk=True)"
   ]
  }
 ],
 "metadata": {
  "interpreter": {
   "hash": "8f51cfef54ea72e87bbf54558132f8bd04472fa843b3a28c2faf8593e16debcd"
  },
  "kernelspec": {
   "display_name": "Python 3.8.5 64-bit ('scds': conda)",
   "language": "python",
   "name": "python3"
  },
  "language_info": {
   "codemirror_mode": {
    "name": "ipython",
    "version": 3
   },
   "file_extension": ".py",
   "mimetype": "text/x-python",
   "name": "python",
   "nbconvert_exporter": "python",
   "pygments_lexer": "ipython3",
   "version": "3.8.5"
  },
  "orig_nbformat": 4
 },
 "nbformat": 4,
 "nbformat_minor": 2
}
