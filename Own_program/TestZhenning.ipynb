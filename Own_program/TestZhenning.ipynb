{
 "cells": [
  {
   "cell_type": "code",
   "execution_count": 1,
   "metadata": {},
   "outputs": [],
   "source": [
    "# Import all packages \n",
    "import os\n",
    "import topogenesis as tg\n",
    "import trimesh as tm\n",
    "import numpy as np\n",
    "import pyvista as pv\n",
    "\n",
    "def tri_to_pv(tri_mesh):\n",
    "    faces = np.pad(tri_mesh.faces, ((0, 0),(1,0)), 'constant', constant_values=3)\n",
    "    pv_mesh = pv.PolyData(tri_mesh.vertices, faces)\n",
    "    return pv_mesh"
   ]
  },
  {
   "cell_type": "markdown",
   "metadata": {},
   "source": [
    "## Select voxel size and mesh (Studio 1)"
   ]
  },
  {
   "cell_type": "code",
   "execution_count": 2,
   "metadata": {},
   "outputs": [
    {
     "name": "stdout",
     "output_type": "stream",
     "text": [
      "True\n"
     ]
    }
   ],
   "source": [
    "vs = 2\n",
    "unit = [vs, vs, vs]\n",
    "mesh_path = os.path.relpath('data/compulsory_envelope.obj')\n",
    "\n",
    "mesh = tm.load(mesh_path)\n",
    "print(mesh.is_watertight)"
   ]
  },
  {
   "cell_type": "code",
   "execution_count": 3,
   "metadata": {},
   "outputs": [],
   "source": [
    "# initialize the base lattice\n",
    "base_lattice = tg.lattice(mesh.bounds, unit=unit, default_value=1, dtype=int)\n",
    "\n",
    "# check which voxel centroids is inside the mesh\n",
    "interior_condition = mesh.contains(base_lattice.centroids)\n",
    "\n",
    "# reshape the interior condition to the shape of the base_lattice\n",
    "interior_array = interior_condition.reshape(base_lattice.shape)\n",
    "\n",
    "# convert the interior array into a lattice\n",
    "interior_lattice = tg.to_lattice(interior_array, base_lattice.minbound, base_lattice.unit)"
   ]
  },
  {
   "cell_type": "code",
   "execution_count": 4,
   "metadata": {},
   "outputs": [
    {
     "data": {
      "application/vnd.jupyter.widget-view+json": {
       "model_id": "3c6842cb135f4b09ba0cc2eb6afe5ed7",
       "version_major": 2,
       "version_minor": 0
      },
      "text/plain": [
       "ViewInteractiveWidget(height=768, layout=Layout(height='auto', width='100%'), width=1024)"
      ]
     },
     "metadata": {},
     "output_type": "display_data"
    },
    {
     "data": {
      "text/plain": [
       "[(236.19303086158203, 143.19303086158203, 218.19303086158203),\n",
       " (36.0, -57.0, 18.0),\n",
       " (0.0, 0.0, 1.0)]"
      ]
     },
     "execution_count": 4,
     "metadata": {},
     "output_type": "execute_result"
    }
   ],
   "source": [
    "# initiating the plotter\n",
    "p = pv.Plotter()\n",
    "\n",
    "# fast visualization of the lattice\n",
    "interior_lattice.fast_vis(p)\n",
    "\n",
    "# adding the base mesh: light blue\n",
    "p.add_mesh(tri_to_pv(mesh), color='#abd8ff', opacity=0.1)\n",
    "\n",
    "# plotting\n",
    "p.show(use_ipyvtk=True)\n"
   ]
  },
  {
   "cell_type": "code",
   "execution_count": 5,
   "metadata": {},
   "outputs": [],
   "source": [
    "csv_path = os.path.relpath('data/voxelized_envelope.csv')\n",
    "interior_lattice.to_csv(csv_path)"
   ]
  },
  {
   "cell_type": "markdown",
   "metadata": {},
   "source": [
    "## Distance Field"
   ]
  },
  {
   "cell_type": "code",
   "execution_count": 6,
   "metadata": {},
   "outputs": [
    {
     "name": "stdout",
     "output_type": "stream",
     "text": [
      "True\n",
      "False\n"
     ]
    }
   ],
   "source": [
    "envelope_path = os.path.relpath('data/compulsory_envelope.obj')\n",
    "context_path = os.path.relpath('data/immediate_context.obj')\n",
    "\n",
    "# load the mesh from file\n",
    "envelope_mesh = tm.load(envelope_path)\n",
    "context_mesh = tm.load(context_path)\n",
    "\n",
    "# Check if the mesh is watertight\n",
    "print(envelope_mesh.is_watertight)\n",
    "print(context_mesh.is_watertight)"
   ]
  },
  {
   "cell_type": "code",
   "execution_count": 7,
   "metadata": {},
   "outputs": [],
   "source": [
    "# loading the lattice from csv\n",
    "lattice_path = os.path.relpath('data/voxelized_envelope.csv')\n",
    "envelope_lattice = tg.lattice_from_csv(lattice_path)"
   ]
  },
  {
   "cell_type": "markdown",
   "metadata": {},
   "source": [
    "Changing this file can evaluate distances to any point."
   ]
  },
  {
   "cell_type": "code",
   "execution_count": 8,
   "metadata": {},
   "outputs": [],
   "source": [
    "# import the streetnetwork as a point cloud\n",
    "street_pc = tg.cloud_from_csv(\"data/main_street_points.csv\")"
   ]
  },
  {
   "cell_type": "code",
   "execution_count": 9,
   "metadata": {},
   "outputs": [],
   "source": [
    "# extracting the centroid of all voxels\n",
    "env_cens = envelope_lattice.centroids_threshold(-1)\n",
    "\n",
    "# initializing the distance matrix\n",
    "dist_m = []\n",
    "# for each voxel ...\n",
    "for voxel_cen in env_cens:\n",
    "    # initializing the distance vector (per each voxel)\n",
    "    dist_v = []\n",
    "    # for each street point ...\n",
    "    for street_point in street_pc:\n",
    "        # find the difference vector\n",
    "        diff = voxel_cen - street_point\n",
    "        # raise the components to the power of two\n",
    "        diff_p2 = diff**2\n",
    "        # sum the components\n",
    "        diff_p2s = diff_p2.sum()\n",
    "        # compute the square root \n",
    "        dist = diff_p2s**0.5\n",
    "        # add the distance to the distance vector\n",
    "        dist_v.append(dist)\n",
    "    # add the distance vector to the distance matrix\n",
    "    dist_m.append(dist_v)\n",
    "# change the distance matrix type, from list to array\n",
    "dist_m = np.array(dist_m)"
   ]
  },
  {
   "cell_type": "code",
   "execution_count": 10,
   "metadata": {},
   "outputs": [],
   "source": [
    "# find the distance to the closest street point for each voxel\n",
    "min_dist = dist_m.min(axis=1)\n",
    "# convert the minimum distance list to a lattice\n",
    "street_eu_distance_lattice = tg.to_lattice(min_dist.reshape(envelope_lattice.shape), envelope_lattice)\n",
    "# zero the value of the exterior voxels\n",
    "envelope_eu_dist_lattice = street_eu_distance_lattice * envelope_lattice"
   ]
  },
  {
   "cell_type": "code",
   "execution_count": 11,
   "metadata": {},
   "outputs": [],
   "source": [
    "# selecting the closest voxels by setting a threshold \n",
    "street_connection_lattice = (0 < envelope_eu_dist_lattice) * (envelope_eu_dist_lattice < 12)"
   ]
  },
  {
   "cell_type": "code",
   "execution_count": 12,
   "metadata": {},
   "outputs": [],
   "source": [
    "# creating neighborhood definition\n",
    "stencil = tg.create_stencil(\"von_neumann\", 1, 1)\n",
    "# setting the center to zero\n",
    "stencil.set_index([0,0,0], 0)"
   ]
  },
  {
   "cell_type": "code",
   "execution_count": 13,
   "metadata": {},
   "outputs": [],
   "source": [
    "# retrieve the neighbour list of each cell\n",
    "neighs = street_connection_lattice.find_neighbours(stencil)\n",
    "\n",
    "# set the maximum distance to sum of the size of the lattice in all dimensions.\n",
    "max_dist = np.sum(street_connection_lattice.shape)\n",
    "\n",
    "# initialize the street network distance lattice with all the street cells as 0, and all other cells as maximum distance possible\n",
    "mn_dist_lattice = 1 - street_connection_lattice\n",
    "mn_dist_lattice[mn_dist_lattice==1] = max_dist\n",
    "\n",
    "# flatten the distance lattice for easy access\n",
    "mn_dist_lattice_flat = mn_dist_lattice.flatten()\n",
    "\n",
    "# flatten the envelope lattice\n",
    "env_lat_flat = envelope_lattice.flatten()"
   ]
  },
  {
   "cell_type": "code",
   "execution_count": 14,
   "metadata": {},
   "outputs": [
    {
     "name": "stdout",
     "output_type": "stream",
     "text": [
      "100\n"
     ]
    }
   ],
   "source": [
    "# main loop for breath-first traversal\n",
    "for i in range(1, max_dist):\n",
    "    # find the neighbours of the previous step\n",
    "    next_step = neighs[mn_dist_lattice_flat == i - 1]\n",
    "    # find the unique neighbours\n",
    "    next_unq_step = np.unique(next_step.flatten())\n",
    "    # check if the neighbours of the next step are inside the envelope\n",
    "    validity_condition = env_lat_flat[next_unq_step]\n",
    "    # select the valid neighbours\n",
    "    next_valid_step = next_unq_step[validity_condition]\n",
    "    # make a copy of the lattice to prevent overwriting in the memory\n",
    "    mn_nex_dist_lattice_flat = np.copy(mn_dist_lattice_flat)\n",
    "    # set the next step cells to the current distance\n",
    "    mn_nex_dist_lattice_flat[next_valid_step] = i\n",
    "    # find the minimum of the current distance and previous distances to avoid overwriting previous steps\n",
    "    mn_dist_lattice_flat = np.minimum(mn_dist_lattice_flat, mn_nex_dist_lattice_flat)\n",
    "    \n",
    "    # check how many of the cells have not been traversed yet\n",
    "    filled_check = mn_dist_lattice_flat * env_lat_flat == max_dist\n",
    "    # if all the cells have been traversed, break the loop\n",
    "    if filled_check.sum() == 0:\n",
    "        print(i)\n",
    "        break\n",
    "\n",
    "# reshape and construct a lattice from the street network distance list\n",
    "mn_dist_lattice = mn_dist_lattice_flat.reshape(mn_dist_lattice.shape)"
   ]
  },
  {
   "cell_type": "code",
   "execution_count": 15,
   "metadata": {},
   "outputs": [
    {
     "data": {
      "application/vnd.jupyter.widget-view+json": {
       "model_id": "67c5988762b3455f8fb3aa5d432fa1b4",
       "version_major": 2,
       "version_minor": 0
      },
      "text/plain": [
       "ViewInteractiveWidget(height=768, layout=Layout(height='auto', width='100%'), width=1024)"
      ]
     },
     "metadata": {},
     "output_type": "display_data"
    },
    {
     "data": {
      "text/plain": [
       "[(785.6075686833789, 708.1911636833788, 743.2184808333789),\n",
       " (65.08283250000001, -12.333572500000002, 22.69374465),\n",
       " (0.0, 0.0, 1.0)]"
      ]
     },
     "execution_count": 15,
     "metadata": {},
     "output_type": "execute_result"
    }
   ],
   "source": [
    "# set the lattice to be visualized\n",
    "l = mn_dist_lattice * envelope_lattice\n",
    "# remapping\n",
    "l = 250 * (l - l.min()) / l.max()\n",
    "\n",
    "# initiating the plotter\n",
    "p = pv.Plotter(notebook=True)\n",
    "\n",
    "street_pc.fast_notebook_vis(p)\n",
    "p.add_mesh(tri_to_pv(context_mesh), color='#aaaaaa')\n",
    "\n",
    "# Create the spatial reference\n",
    "grid = pv.UniformGrid()\n",
    "\n",
    "# Set the grid dimensions: shape because we want to inject our values\n",
    "grid.dimensions = l.shape\n",
    "# The bottom left corner of the data set\n",
    "grid.origin = l.minbound\n",
    "# These are the cell sizes along each axis\n",
    "grid.spacing = l.unit\n",
    "\n",
    "# Add the data values to the cell data\n",
    "grid.point_arrays[\"Street Access\"] = l.flatten(order=\"F\")  # Flatten the Lattice\n",
    "    \n",
    "# adding the volume\n",
    "opacity = np.array([0,0.6,0.6,0.6,0.6,0.6,0.6]) * 1.5\n",
    "p.add_volume(grid, cmap=\"coolwarm\", opacity=opacity, shade=True, show_scalar_bar=True)\n",
    "\n",
    "# plotting\n",
    "p.show(use_ipyvtk=True)"
   ]
  }
 ],
 "metadata": {
  "interpreter": {
   "hash": "8f51cfef54ea72e87bbf54558132f8bd04472fa843b3a28c2faf8593e16debcd"
  },
  "kernelspec": {
   "display_name": "Python 3.8.5 64-bit ('scds': conda)",
   "language": "python",
   "name": "python3"
  },
  "language_info": {
   "codemirror_mode": {
    "name": "ipython",
    "version": 3
   },
   "file_extension": ".py",
   "mimetype": "text/x-python",
   "name": "python",
   "nbconvert_exporter": "python",
   "pygments_lexer": "ipython3",
   "version": "3.8.5"
  },
  "orig_nbformat": 4
 },
 "nbformat": 4,
 "nbformat_minor": 2
}
