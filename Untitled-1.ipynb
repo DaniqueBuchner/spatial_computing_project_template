{
 "cells": [
  {
   "cell_type": "code",
   "execution_count": null,
   "metadata": {},
   "outputs": [],
   "source": [
    "'gg'"
   ]
  }
 ],
 "metadata": {
  "interpreter": {
   "hash": "8f51cfef54ea72e87bbf54558132f8bd04472fa843b3a28c2faf8593e16debcd"
  },
  "kernelspec": {
   "display_name": "Python 3.8.5 64-bit ('scds': conda)",
   "language": "python",
   "name": "python3"
  },
  "language_info": {
   "name": "python",
   "version": "3.8.5"
  },
  "orig_nbformat": 4
 },
 "nbformat": 4,
 "nbformat_minor": 2
}
